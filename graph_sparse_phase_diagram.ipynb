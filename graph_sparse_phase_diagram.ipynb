{
 "cells": [
  {
   "cell_type": "code",
   "execution_count": 2,
   "metadata": {},
   "outputs": [],
   "source": [
    "import os\n",
    "import numpy as np\n",
    "import json\n",
    "import matplotlib.pyplot as plt\n",
    "import Utils.graphing_helpers\n",
    "import importlib\n",
    "importlib.reload(Utils.graphing_helpers)\n",
    "from Utils.graphing_helpers import (plot_vicsek_phase_diagram, plot_dir_cross_vel_phase_diagram,  plot_dir_cross_vel_norm_phase_diagram, \n",
    "                                    save_fig_pdf, edges_from_centers_log)"
   ]
  },
  {
   "cell_type": "code",
   "execution_count": 46,
   "metadata": {},
   "outputs": [],
   "source": [
    "exp_dir = \"/home/ryanlopez/Polar_Align_Box_L=250/phi=0.6000_and_v0=0.0100\"\n",
    "\n",
    "all_J_vals = np.logspace(-3, 0, num=13)\n",
    "all_Dr_vals = np.logspace(-3, 0, num=13)\n",
    "\n",
    "J_Dr_vals = [\n",
    "    (0.1778, 0.0562), \n",
    "    (0.01 ,0.001), \n",
    "    (0.018 ,0.001), \n",
    "    (0.0056, 0.001), \n",
    "    (0.01, 0.00178), \n",
    "    (0.01, 0.01), \n",
    "    (0.1, 0.1), \n",
    "    (1.0, 0.1), \n",
    "    (0.1, 0.0562), \n",
    "    (0.3162, 0.0562)\n",
    "    ]\n",
    "\n",
    "extra_J_Dr_indices = [\n",
    "    [3, 4],\n",
    "    [5, 4],\n",
    "    [4, 3],\n",
    "    [4, 5], \n",
    "    [3, 3],\n",
    "    [5, 5],\n",
    "    [2, 2],\n",
    "    [6, 6],\n",
    "    [0, 0], \n",
    "    [1, 1],\n",
    "    [3, 5],\n",
    "    [5, 3]\n",
    "]\n",
    "for (J_index, Dr_index) in extra_J_Dr_indices:\n",
    "    J_Dr_vals.append((all_J_vals[J_index], all_Dr_vals[Dr_index]))"
   ]
  },
  {
   "cell_type": "code",
   "execution_count": 47,
   "metadata": {},
   "outputs": [],
   "source": [
    "def load_sparse_statistic_data(value_key, J_Dr_vals, all_Dr_vals, all_J_vals, exp_dir):\n",
    "    statistic_values = np.empty((len(all_Dr_vals), len(all_J_vals)))\n",
    "    statistic_values[:,:] = np.nan\n",
    "\n",
    "    all_J_bins_edges = edges_from_centers_log(all_J_vals)\n",
    "    all_Dr_bins_edges = edges_from_centers_log(all_Dr_vals)\n",
    "    for (J, Dr) in J_Dr_vals:\n",
    "        J_index = np.digitize(J, all_J_bins_edges)\n",
    "        Dr_index = np.digitize(Dr, all_Dr_bins_edges)\n",
    "        \n",
    "        single_simulation_stats_filename = os.path.join(exp_dir, \"J=%.4f_and_Dr=%.4f\"%(J, Dr), 'single_stats.json')\n",
    "        with open(single_simulation_stats_filename) as stats_file:\n",
    "            stats = json.loads(stats_file.read())\n",
    "        statistic_values[Dr_index-1, J_index-1] = stats[value_key]\n",
    "    return statistic_values"
   ]
  },
  {
   "cell_type": "code",
   "execution_count": 49,
   "metadata": {},
   "outputs": [
    {
     "ename": "FileNotFoundError",
     "evalue": "[Errno 2] No such file or directory: '/home/ryanlopez/Polar_Align_Box_L=250/phi=0.6000_and_v0=0.0100/J=0.0056_and_Dr=0.0100/single_stats.json'",
     "output_type": "error",
     "traceback": [
      "\u001b[0;31m---------------------------------------------------------------------------\u001b[0m",
      "\u001b[0;31mFileNotFoundError\u001b[0m                         Traceback (most recent call last)",
      "\u001b[0;32m/tmp/ipykernel_1813813/1022133371.py\u001b[0m in \u001b[0;36m<module>\u001b[0;34m\u001b[0m\n\u001b[0;32m----> 1\u001b[0;31m \u001b[0mflocking_vals\u001b[0m \u001b[0;34m=\u001b[0m \u001b[0mload_sparse_statistic_data\u001b[0m\u001b[0;34m(\u001b[0m\u001b[0;34m'vicsek_param'\u001b[0m\u001b[0;34m,\u001b[0m \u001b[0mJ_Dr_vals\u001b[0m\u001b[0;34m,\u001b[0m \u001b[0mall_Dr_vals\u001b[0m\u001b[0;34m,\u001b[0m \u001b[0mall_J_vals\u001b[0m\u001b[0;34m,\u001b[0m \u001b[0mexp_dir\u001b[0m\u001b[0;34m)\u001b[0m\u001b[0;34m\u001b[0m\u001b[0;34m\u001b[0m\u001b[0m\n\u001b[0m\u001b[1;32m      2\u001b[0m \u001b[0mplot_vicsek_phase_diagram\u001b[0m\u001b[0;34m(\u001b[0m\u001b[0mall_J_vals\u001b[0m\u001b[0;34m,\u001b[0m \u001b[0mall_Dr_vals\u001b[0m\u001b[0;34m,\u001b[0m \u001b[0mflocking_vals\u001b[0m\u001b[0;34m,\u001b[0m \u001b[0mplt_xlabel\u001b[0m\u001b[0;34m=\u001b[0m\u001b[0;34mr'$J$'\u001b[0m\u001b[0;34m,\u001b[0m \u001b[0mplt_ylabel\u001b[0m\u001b[0;34m=\u001b[0m\u001b[0;34mr'$D_r$'\u001b[0m\u001b[0;34m)\u001b[0m\u001b[0;34m\u001b[0m\u001b[0;34m\u001b[0m\u001b[0m\n",
      "\u001b[0;32m/tmp/ipykernel_1813813/459093091.py\u001b[0m in \u001b[0;36mload_sparse_statistic_data\u001b[0;34m(value_key, J_Dr_vals, all_Dr_vals, all_J_vals, exp_dir)\u001b[0m\n\u001b[1;32m     10\u001b[0m \u001b[0;34m\u001b[0m\u001b[0m\n\u001b[1;32m     11\u001b[0m         \u001b[0msingle_simulation_stats_filename\u001b[0m \u001b[0;34m=\u001b[0m \u001b[0mos\u001b[0m\u001b[0;34m.\u001b[0m\u001b[0mpath\u001b[0m\u001b[0;34m.\u001b[0m\u001b[0mjoin\u001b[0m\u001b[0;34m(\u001b[0m\u001b[0mexp_dir\u001b[0m\u001b[0;34m,\u001b[0m \u001b[0;34m\"J=%.4f_and_Dr=%.4f\"\u001b[0m\u001b[0;34m%\u001b[0m\u001b[0;34m(\u001b[0m\u001b[0mJ\u001b[0m\u001b[0;34m,\u001b[0m \u001b[0mDr\u001b[0m\u001b[0;34m)\u001b[0m\u001b[0;34m,\u001b[0m \u001b[0;34m'single_stats.json'\u001b[0m\u001b[0;34m)\u001b[0m\u001b[0;34m\u001b[0m\u001b[0;34m\u001b[0m\u001b[0m\n\u001b[0;32m---> 12\u001b[0;31m         \u001b[0;32mwith\u001b[0m \u001b[0mopen\u001b[0m\u001b[0;34m(\u001b[0m\u001b[0msingle_simulation_stats_filename\u001b[0m\u001b[0;34m)\u001b[0m \u001b[0;32mas\u001b[0m \u001b[0mstats_file\u001b[0m\u001b[0;34m:\u001b[0m\u001b[0;34m\u001b[0m\u001b[0;34m\u001b[0m\u001b[0m\n\u001b[0m\u001b[1;32m     13\u001b[0m             \u001b[0mstats\u001b[0m \u001b[0;34m=\u001b[0m \u001b[0mjson\u001b[0m\u001b[0;34m.\u001b[0m\u001b[0mloads\u001b[0m\u001b[0;34m(\u001b[0m\u001b[0mstats_file\u001b[0m\u001b[0;34m.\u001b[0m\u001b[0mread\u001b[0m\u001b[0;34m(\u001b[0m\u001b[0;34m)\u001b[0m\u001b[0;34m)\u001b[0m\u001b[0;34m\u001b[0m\u001b[0;34m\u001b[0m\u001b[0m\n\u001b[1;32m     14\u001b[0m         \u001b[0mstatistic_values\u001b[0m\u001b[0;34m[\u001b[0m\u001b[0mDr_index\u001b[0m\u001b[0;34m-\u001b[0m\u001b[0;36m1\u001b[0m\u001b[0;34m,\u001b[0m \u001b[0mJ_index\u001b[0m\u001b[0;34m-\u001b[0m\u001b[0;36m1\u001b[0m\u001b[0;34m]\u001b[0m \u001b[0;34m=\u001b[0m \u001b[0mstats\u001b[0m\u001b[0;34m[\u001b[0m\u001b[0mvalue_key\u001b[0m\u001b[0;34m]\u001b[0m\u001b[0;34m\u001b[0m\u001b[0;34m\u001b[0m\u001b[0m\n",
      "\u001b[0;31mFileNotFoundError\u001b[0m: [Errno 2] No such file or directory: '/home/ryanlopez/Polar_Align_Box_L=250/phi=0.6000_and_v0=0.0100/J=0.0056_and_Dr=0.0100/single_stats.json'"
     ]
    }
   ],
   "source": [
    "flocking_vals = load_sparse_statistic_data('vicsek_param', J_Dr_vals, all_Dr_vals, all_J_vals, exp_dir)\n",
    "plot_vicsek_phase_diagram(all_J_vals, all_Dr_vals, flocking_vals, plt_xlabel=r'$J$', plt_ylabel=r'$D_r$')"
   ]
  },
  {
   "cell_type": "code",
   "execution_count": 12,
   "metadata": {},
   "outputs": [
    {
     "data": {
      "image/png": "[encoded data removed]",
      "text/plain": [
       "<Figure size 432x288 with 2 Axes>"
      ]
     },
     "metadata": {
      "needs_background": "light"
     },
     "output_type": "display_data"
    }
   ],
   "source": [
    "dir_cross_vel_norm_vals = load_sparse_statistic_data('dir_cross_vel_norm', J_Dr_vals, all_Dr_vals, all_J_vals, exp_dir)\n",
    "plot_dir_cross_vel_norm_phase_diagram(all_J_vals, all_Dr_vals, dir_cross_vel_norm_vals, plt_xlabel=r'$J$', plt_ylabel=r'$D_r$', vmax=0.2)"
   ]
  }
 ],
 "metadata": {
  "interpreter": {
   "hash": "6dc59c0f83b5695907e6c56de27fcad516e0e3d65e065c8ce53fd97641e3e16d"
  },
  "kernelspec": {
   "display_name": "Python 3.7.11 ('ABP')",
   "language": "python",
   "name": "python3"
  },
  "language_info": {
   "codemirror_mode": {
    "name": "ipython",
    "version": 3
   },
   "file_extension": ".py",
   "mimetype": "text/x-python",
   "name": "python",
   "nbconvert_exporter": "python",
   "pygments_lexer": "ipython3",
   "version": "3.7.11"
  },
  "orig_nbformat": 4
 },
 "nbformat": 4,
 "nbformat_minor": 2
}
