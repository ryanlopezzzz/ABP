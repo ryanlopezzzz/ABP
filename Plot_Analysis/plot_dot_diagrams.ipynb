{
 "cells": [
  {
   "cell_type": "code",
   "execution_count": 1,
   "metadata": {},
   "outputs": [],
   "source": [
    "import sys\n",
    "sys.path.append('../')\n",
    "import os\n",
    "import numpy as np\n",
    "import json\n",
    "import matplotlib.pyplot as plt\n",
    "from scipy.signal import find_peaks, peak_prominences\n",
    "import Utils.graphing_helpers\n",
    "import read_data as rd\n",
    "import importlib\n",
    "importlib.reload(Utils.graphing_helpers)\n",
    "from Utils.graphing_helpers import (plot_vicsek_phase_diagram, plot_dir_cross_vel_phase_diagram,  plot_dir_cross_vel_norm_phase_diagram, \n",
    "                                    save_fig_pdf, edges_from_centers_log, edges_from_centers_linear)\n",
    "from Analysis_Calculations.local_packing_fraction import get_local_packing_fraction"
   ]
  },
  {
   "cell_type": "code",
   "execution_count": 6,
   "metadata": {},
   "outputs": [],
   "source": [
    "vicsek_values = []\n",
    "velocity_vicsek_values = []\n",
    "dir_cross_vel_norm_values = []\n",
    "packing_std_dev_values = []\n",
    "\n",
    "phi_values = []\n",
    "v0_values = []\n",
    "J_values = []\n",
    "Dr_values = []"
   ]
  },
  {
   "cell_type": "code",
   "execution_count": 7,
   "metadata": {},
   "outputs": [],
   "source": [
    "save_dir = \"/home/ryanlopez/Polar_Align_Vary_Phi_V_Saved_Data2\"\n",
    "for phi in [1.0]:\n",
    "    for v0 in [0.01, 0.03, 0.1]:\n",
    "        if v0 in [0.01, 0.03]:\n",
    "            J_vals = np.logspace(-3, 0, num=7)\n",
    "            Dr_vals = np.logspace(-3, 0, num=7)\n",
    "        else:\n",
    "            J_vals = np.logspace(-3, 0, num=4)\n",
    "            Dr_vals = np.logspace(-3, 0, num=4)\n",
    "        for J in J_vals:\n",
    "            for Dr in Dr_vals:\n",
    "                exp_folder_name = \"phi=%.4f_and_v0=%.4f\"%(phi, v0)\n",
    "                run_folder_name = \"J=%.4f_and_Dr=%.4f\"%(J, Dr)\n",
    "                run_dir = os.path.join(save_dir, exp_folder_name, run_folder_name)\n",
    "                single_stats_filename = os.path.join(run_dir, 'new_single_stats.json')\n",
    "                with open(single_stats_filename, 'r') as single_stats_file:\n",
    "                    single_stats = json.loads(single_stats_file.read())\n",
    "                vicsek_values.append(single_stats['vicsek_param'])\n",
    "                velocity_vicsek_values.append(single_stats['velocity_vicsek_param'])\n",
    "                dir_cross_vel_norm_values.append(single_stats['dir_cross_vel_norm'])\n",
    "                packing_std_dev_values.append(single_stats['packing_std_dev'])\n",
    "                \n",
    "                phi_values.append(phi)\n",
    "                v0_values.append(v0)\n",
    "                J_values.append(J)\n",
    "                Dr_values.append(Dr)"
   ]
  },
  {
   "cell_type": "code",
   "execution_count": 14,
   "metadata": {},
   "outputs": [],
   "source": [
    "save_dir = \"/home/ryanlopez/Polar_Align_Big_Phase_Diagrams\"\n",
    "for phi in [0.6]:\n",
    "    for v0 in [0.01, 0.03]:\n",
    "        for J in np.logspace(-3, 0, num=13):\n",
    "            for Dr in np.logspace(-3, 0, num=13):\n",
    "                exp_folder_name = \"phi=%.4f_and_v0=%.4f\"%(phi, v0)\n",
    "                run_folder_name = \"J=%.4f_and_Dr=%.4f\"%(J, Dr)\n",
    "                run_dir = os.path.join(save_dir, exp_folder_name, run_folder_name)\n",
    "                single_stats_filename = os.path.join(run_dir, 'new_single_stats.json')\n",
    "                with open(single_stats_filename, 'r') as single_stats_file:\n",
    "                    single_stats = json.loads(single_stats_file.read())\n",
    "                vicsek_values.append(single_stats['vicsek_param'])\n",
    "                velocity_vicsek_values.append(single_stats['velocity_vicsek_param'])\n",
    "                dir_cross_vel_norm_values.append(single_stats['dir_cross_vel_norm'])\n",
    "                packing_std_dev_values.append(single_stats['packing_std_dev'])\n",
    "                \n",
    "                phi_values.append(phi)\n",
    "                v0_values.append(v0)\n",
    "                J_values.append(J)\n",
    "                Dr_values.append(Dr)"
   ]
  },
  {
   "cell_type": "code",
   "execution_count": 8,
   "metadata": {},
   "outputs": [],
   "source": [
    "vicsek_values = np.array(vicsek_values)\n",
    "velocity_vicsek_values = np.array(velocity_vicsek_values)\n",
    "dir_cross_vel_norm_values = np.array(dir_cross_vel_norm_values)\n",
    "packing_std_dev_values = np.array(packing_std_dev_values)\n",
    "\n",
    "phi_values = np.array(phi_values)\n",
    "v0_values = np.array(v0_values)\n",
    "J_values = np.array(J_values)\n",
    "Dr_values = np.array(Dr_values)"
   ]
  },
  {
   "cell_type": "code",
   "execution_count": 9,
   "metadata": {},
   "outputs": [],
   "source": [
    "data_points_x = J_values/ Dr_values\n",
    "data_points_y = Dr_values / v0_values"
   ]
  },
  {
   "cell_type": "code",
   "execution_count": 10,
   "metadata": {},
   "outputs": [
    {
     "data": {
      "text/plain": [
       "114"
      ]
     },
     "execution_count": 10,
     "metadata": {},
     "output_type": "execute_result"
    }
   ],
   "source": [
    "len(data_points_x)"
   ]
  },
  {
   "cell_type": "code",
   "execution_count": 11,
   "metadata": {},
   "outputs": [
    {
     "data": {
      "text/plain": [
       "Text(0.5, 1.0, 'Polar Alignment - Vicsek Order Parameter - $\\\\phi=1.00e+00$')"
      ]
     },
     "execution_count": 11,
     "metadata": {},
     "output_type": "execute_result"
    },
    {
     "data": {
      "image/png": "[encoded data removed]",
      "text/plain": [
       "<Figure size 576x504 with 1 Axes>"
      ]
     },
     "metadata": {
      "needs_background": "light"
     },
     "output_type": "display_data"
    }
   ],
   "source": [
    "save_dir =  \"/home/ryanlopez/Polar_Align_Vary_Phi_V_Saved_Data2\"\n",
    "fig, axs = plt.subplots(figsize=(8,7))\n",
    "\n",
    "cutoff = 0.5\n",
    "yes_x = data_points_x[vicsek_values > cutoff]\n",
    "yes_y = data_points_y[vicsek_values > cutoff]\n",
    "no_x = data_points_x[vicsek_values < cutoff]\n",
    "no_y = data_points_y[vicsek_values < cutoff]\n",
    "#Add Noise\n",
    "yes_x = yes_x * np.random.normal(1, 0.05, yes_x.shape)\n",
    "yes_y = yes_y * np.random.normal(1, 0.05, yes_y.shape)\n",
    "no_x = no_x * np.random.normal(1, 0.05, no_x.shape)\n",
    "no_y = no_y * np.random.normal(1, 0.05, no_y.shape)\n",
    "#Make Plot\n",
    "plt.scatter(yes_x, yes_y, c='red', label=f'Vicsek > {cutoff:.2f}', alpha=0.5)\n",
    "plt.scatter(no_x, no_y, c='blue', label=f'Vicsek < {cutoff:.2f}', alpha=0.5)\n",
    "plt.xscale('log')\n",
    "plt.yscale('log')\n",
    "plt.legend()\n",
    "plt.xlabel(r'$\\frac{J}{D_r}$', fontsize=22)\n",
    "plt.ylabel(r'$\\frac{D_r}{v_0}$', fontsize=22)\n",
    "plt.title(rf'Polar Alignment - Vicsek Order Parameter - $\\phi={phi:.2e}$', fontsize=18)\n",
    "#save_fig_pdf(os.path.join(save_dir, 'dot_diagrams', f'vicsek_dots_diagrams_phi={phi:.4f}.pdf'))"
   ]
  },
  {
   "cell_type": "code",
   "execution_count": null,
   "metadata": {},
   "outputs": [],
   "source": [
    "save_dir =  \"/home/ryanlopez/Polar_Align_Vary_Phi_V_Saved_Data2\"\n",
    "fig, axs = plt.subplots(figsize=(8,7))\n",
    "\n",
    "cutoff = 0.5\n",
    "yes_x = data_points_x[velocity_vicsek_values > cutoff]\n",
    "yes_y = data_points_y[velocity_vicsek_values > cutoff]\n",
    "no_x = data_points_x[velocity_vicsek_values < cutoff]\n",
    "no_y = data_points_y[velocity_vicsek_values < cutoff]\n",
    "#Add Noise\n",
    "yes_x = yes_x * np.random.normal(1, 0.05, yes_x.shape)\n",
    "yes_y = yes_y * np.random.normal(1, 0.05, yes_y.shape)\n",
    "no_x = no_x * np.random.normal(1, 0.05, no_x.shape)\n",
    "no_y = no_y * np.random.normal(1, 0.05, no_y.shape)\n",
    "#Make Plot\n",
    "plt.scatter(yes_x, yes_y, c='red', label=f'Vicsek > {cutoff:.2f}', alpha=0.5)\n",
    "plt.scatter(no_x, no_y, c='blue', label=f'Vicsek < {cutoff:.2f}', alpha=0.5)\n",
    "plt.xscale('log')\n",
    "plt.yscale('log')\n",
    "plt.legend()\n",
    "plt.xlabel(r'$\\frac{J}{D_r}$', fontsize=22)\n",
    "plt.ylabel(r'$\\frac{D_r}{v_0}$', fontsize=22)\n",
    "plt.title(rf'Polar Alignment - Velocity Vicsek Order Parameter - $\\phi={phi:.2e}$', fontsize=18)\n",
    "#save_fig_pdf(os.path.join(save_dir, 'dot_diagrams', f'velocity_vicsek_dots_diagrams_phi={phi:.4f}.pdf'))"
   ]
  },
  {
   "cell_type": "code",
   "execution_count": null,
   "metadata": {},
   "outputs": [],
   "source": [
    "save_dir =  \"/home/ryanlopez/Polar_Align_Vary_Phi_V_Saved_Data2\"\n",
    "fig, axs = plt.subplots(figsize=(8,7))\n",
    "\n",
    "cutoff = 0.1\n",
    "yes_x = data_points_x[dir_cross_vel_norm_values > cutoff]\n",
    "yes_y = data_points_y[dir_cross_vel_norm_values > cutoff]\n",
    "no_x = data_points_x[dir_cross_vel_norm_values < cutoff]\n",
    "no_y = data_points_y[dir_cross_vel_norm_values < cutoff]\n",
    "#Add Noise\n",
    "yes_x = yes_x * np.random.normal(1, 0.05, yes_x.shape)\n",
    "yes_y = yes_y * np.random.normal(1, 0.05, yes_y.shape)\n",
    "no_x = no_x * np.random.normal(1, 0.05, no_x.shape)\n",
    "no_y = no_y * np.random.normal(1, 0.05, no_y.shape)\n",
    "#Make Plot\n",
    "plt.scatter(yes_x, yes_y, c='green', label=f'Dir Cross Vel > {cutoff:.2f}', alpha=0.5)\n",
    "plt.scatter(no_x, no_y, c='purple', label=f'Dir Cross Vel < {cutoff:.2f}', alpha=0.5)\n",
    "plt.xscale('log')\n",
    "plt.yscale('log')\n",
    "plt.legend()\n",
    "plt.xlabel(r'$\\frac{J}{D_r}$', fontsize=22)\n",
    "plt.ylabel(r'$\\frac{D_r}{v_0}$', fontsize=22)\n",
    "plt.title(rf'Polar Alignment - Dir Cross Velocity Norm - $\\phi={phi:.2e}$', fontsize=18)\n",
    "#save_fig_pdf(os.path.join(save_dir, 'dot_diagrams', f'dir_cross_vel_dots_diagrams_phi={phi:.4f}.pdf'))"
   ]
  },
  {
   "cell_type": "code",
   "execution_count": null,
   "metadata": {},
   "outputs": [],
   "source": [
    "save_dir =  \"/home/ryanlopez/Polar_Align_Vary_Phi_V_Saved_Data2\"\n",
    "fig, axs = plt.subplots(figsize=(8,7))\n",
    "\n",
    "cutoff = 0.2\n",
    "yes_x = data_points_x[packing_std_dev_values > cutoff]\n",
    "yes_y = data_points_y[packing_std_dev_values > cutoff]\n",
    "no_x = data_points_x[packing_std_dev_values < cutoff]\n",
    "no_y = data_points_y[packing_std_dev_values < cutoff]\n",
    "#Add Noise\n",
    "yes_x = yes_x * np.random.normal(1, 0.05, yes_x.shape)\n",
    "yes_y = yes_y * np.random.normal(1, 0.05, yes_y.shape)\n",
    "no_x = no_x * np.random.normal(1, 0.05, no_x.shape)\n",
    "no_y = no_y * np.random.normal(1, 0.05, no_y.shape)\n",
    "#Make Plot\n",
    "plt.scatter(yes_x, yes_y, c='orange', label=f'Packing Std Dev > {cutoff:.2f}', alpha=0.5)\n",
    "plt.scatter(no_x, no_y, c='black', label=f'Packing Std Dev < {cutoff:.2f}', alpha=0.5)\n",
    "plt.xscale('log')\n",
    "plt.yscale('log')\n",
    "plt.legend()\n",
    "plt.xlabel(r'$\\frac{J}{D_r}$', fontsize=22)\n",
    "plt.ylabel(r'$\\frac{D_r}{v_0}$', fontsize=22)\n",
    "plt.title(rf'Polar Alignment - Packing Fraction Std Dev - $\\phi={phi:.2e}$', fontsize=18)\n",
    "#save_fig_pdf(os.path.join(save_dir, 'dot_diagrams', f'packing_std_dev_dots_diagrams_phi={phi:.4f}.pdf'))"
   ]
  },
  {
   "cell_type": "code",
   "execution_count": 13,
   "metadata": {},
   "outputs": [],
   "source": [
    "def mscatter(x,y, ax=None, m=None, **kw):\n",
    "    import matplotlib.markers as mmarkers\n",
    "    ax = ax or plt.gca()\n",
    "    sc = ax.scatter(x,y,**kw)\n",
    "    if (m is not None) and (len(m)==len(x)):\n",
    "        paths = []\n",
    "        for marker in m:\n",
    "            if isinstance(marker, mmarkers.MarkerStyle):\n",
    "                marker_obj = marker\n",
    "            else:\n",
    "                marker_obj = mmarkers.MarkerStyle(marker)\n",
    "            path = marker_obj.get_path().transformed(\n",
    "                        marker_obj.get_transform())\n",
    "            paths.append(path)\n",
    "        sc.set_paths(paths)\n",
    "    return sc"
   ]
  },
  {
   "cell_type": "code",
   "execution_count": 17,
   "metadata": {},
   "outputs": [
    {
     "data": {
      "image/png": "[encoded data removed]",
      "text/plain": [
       "<Figure size 576x504 with 1 Axes>"
      ]
     },
     "metadata": {
      "needs_background": "light"
     },
     "output_type": "display_data"
    }
   ],
   "source": [
    "save_dir =  \"/home/ryanlopez/Polar_Align_Vary_Phi_V_Saved_Data2\"\n",
    "fig, axs = plt.subplots(figsize=(8,7))\n",
    "\n",
    "#Add noise\n",
    "data_points_x_noise = data_points_x #* np.random.normal(1, 0.05, data_points_x.shape)\n",
    "data_points_y_noise = data_points_y #* np.random.normal(1, 0.05, data_points_y.shape)\n",
    "\n",
    "#Determine phase separation\n",
    "phase_separated_cutoff = 0.2\n",
    "markers = np.where(packing_std_dev_values >= phase_separated_cutoff, 'o', 'x')\n",
    "\n",
    "#Determine dir cross vel norm vortices\n",
    "\n",
    "dir_cross_vel_cutoff = 0.1\n",
    "vortex_condition = dir_cross_vel_norm_values >= dir_cross_vel_cutoff\n",
    "vortex_x = data_points_x_noise[vortex_condition]\n",
    "vortex_y = data_points_y_noise[vortex_condition]\n",
    "vortex_markers = list(markers[vortex_condition])\n",
    "\n",
    "#Determine flocking\n",
    "vicsek_cutoff = 0.5\n",
    "flocking_condition = np.logical_and(velocity_vicsek_values >= vicsek_cutoff, dir_cross_vel_norm_values < dir_cross_vel_cutoff)\n",
    "flock_x = data_points_x_noise[flocking_condition]\n",
    "flock_y = data_points_y_noise[flocking_condition]\n",
    "flock_markers = list(markers[flocking_condition])\n",
    "\n",
    "#Determine not flocking\n",
    "not_flocking_condition = np.logical_and(velocity_vicsek_values < vicsek_cutoff, dir_cross_vel_norm_values < dir_cross_vel_cutoff)\n",
    "not_flock_x = data_points_x_noise[not_flocking_condition]\n",
    "not_flock_y = data_points_y_noise[not_flocking_condition]\n",
    "not_flock_markers = list(markers[not_flocking_condition])\n",
    "\n",
    "#Make Plot\n",
    "#mscatter(vortex_x, vortex_y, c='green', label='vortex', alpha=0.5, m=vortex_markers, s=100)\n",
    "mscatter(flock_x, flock_y, c='red', label='flocking', alpha=0.5, m=flock_markers, s=100)\n",
    "mscatter(not_flock_x, not_flock_y, c='blue', label='not flocking', alpha=0.5, m=not_flock_markers, s=100)\n",
    "\n",
    "#Make empty plots for legend\n",
    "plt.scatter([], [], c='black', marker='o', alpha=0.5, s=100, label='phase separated')\n",
    "plt.scatter([], [], c='black', marker='x', alpha=0.5, s=100, label='not phase separated')\n",
    "\n",
    "#Add stars for simulation movies\n",
    "#plt.scatter(data_points_x[96, None], data_points_y[96, None], c='black', marker='*', alpha=0.5, s=100)\n",
    "#plt.scatter(data_points_x[242, None], data_points_y[242, None], c='black', marker='*', alpha=0.5, s=100)\n",
    "#plt.scatter(data_points_x[212, None], data_points_y[212, None], c='black', marker='*', alpha=0.5, s=100)\n",
    "#plt.scatter(data_points_x[263, None], data_points_y[263, None], c='black', marker='*', alpha=0.5, s=100)\n",
    "\n",
    "plt.xscale('log')\n",
    "plt.yscale('log')\n",
    "plt.legend()\n",
    "plt.xlabel(r'$\\frac{J}{D_r}$', fontsize=22)\n",
    "plt.ylabel(r'$\\frac{D_r}{v_0}$', fontsize=22)\n",
    "plt.title(rf'Polar Alignment - $\\phi={phi:.2f}$', fontsize=18)\n",
    "save_fig_pdf(os.path.join(save_dir, 'dot_diagrams', f'combined_dots_diagrams_phi={phi:.4f}.pdf'))"
   ]
  }
 ],
 "metadata": {
  "interpreter": {
   "hash": "6dc59c0f83b5695907e6c56de27fcad516e0e3d65e065c8ce53fd97641e3e16d"
  },
  "kernelspec": {
   "display_name": "Python 3.7.11 ('ABP')",
   "language": "python",
   "name": "python3"
  },
  "language_info": {
   "codemirror_mode": {
    "name": "ipython",
    "version": 3
   },
   "file_extension": ".py",
   "mimetype": "text/x-python",
   "name": "python",
   "nbconvert_exporter": "python",
   "pygments_lexer": "ipython3",
   "version": "3.7.11"
  },
  "orig_nbformat": 4
 },
 "nbformat": 4,
 "nbformat_minor": 2
}
