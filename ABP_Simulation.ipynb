{
 "cells": [
  {
   "cell_type": "markdown",
   "metadata": {},
   "source": [
    "# Implementing a 2D Simulation of Active Brownian Particles"
   ]
  },
  {
   "cell_type": "code",
   "execution_count": 34,
   "metadata": {},
   "outputs": [],
   "source": [
    "#Imports\n",
    "\n",
    "import sys\n",
    "import os\n",
    "import numpy as np\n",
    "import random\n",
    "import matplotlib\n",
    "import matplotlib.pyplot as plt\n",
    "import datetime\n",
    "import pdb #python debugger\n",
    "from timeit import default_timer as timer #timer\n",
    "from collections import OrderedDict\n",
    "import argparse\n",
    "\n",
    "sys.path.insert(1, '/Users/ryanlopez/ABPTutorial/c++') #Connects to ABP Folder github.com/ryanlopezzzz/ABPTutorial\n",
    "from cppmd.builder import *\n",
    "import cppmd as md\n",
    "\n",
    "import read_data as rd #reads snapshot text data\n",
    "import directories #used to create directories for saving data\n",
    "import Physical_Quantities.MSD as MSD\n",
    "import Physical_Quantities.flocking_factors as flocking_factors\n",
    "import Physical_Quantities.various as various"
   ]
  },
  {
   "cell_type": "markdown",
   "metadata": {},
   "source": [
    "## ABP Physics\n",
    "\n",
    "ABPs are described by the coupled Langevin Equations:\n",
    "<br>\n",
    "<br>\n",
    "$\\dot{r}_i = v_0 \\hat{n} + \\mu \\sum_j F_{ij} + \\xi_i^t$\n",
    "<br>\n",
    "$\\dot{\\theta}_i = \\xi_i^r$\n",
    "<br>\n",
    "<br>\n",
    "Where both $\\xi^t$ and $\\xi^r$ are Gaussian white noise which satisfy:\n",
    "<br>\n",
    "<br>\n",
    "$<\\xi_i^t \\xi_j^t> = 2D_t \\delta_{ij}$\n",
    "<br>\n",
    "$<\\xi_i^r \\xi_j^r> = 2D_r \\delta_{ij}$\n",
    "<br>\n",
    "<br>\n",
    "The relevant physics of the ABPs is determined through 4 parameters:\n",
    "\n",
    "$Pe_r = \\frac{v_0}{D_r a}$ (Peclet number, $a$ is the particle's radius)\n",
    "<br>\n",
    "$\\mu = 1$ (Particle Mobility)\n"
   ]
  },
  {
   "cell_type": "markdown",
   "metadata": {},
   "source": [
    "### Dimensionless quantities I should use:\n",
    "Packing fraction\n",
    "\n",
    "Peclet Number $Pe_r = \\frac{v_0 \\tau_r}{a}=\\frac{v_0}{D_r a}$\n",
    "\n",
    "Time scale $\\tau_k = \\frac{1}{\\mu k}$\n",
    "\n",
    "Mobility $\\mu = \\frac{1}{\\gamma_t}$\n",
    "\n",
    "Fluctuation-Dissipation Theorem: $D_t = k T \\mu$"
   ]
  },
  {
   "cell_type": "code",
   "execution_count": 2,
   "metadata": {},
   "outputs": [
    {
     "name": "stdout",
     "output_type": "stream",
     "text": [
      "Packing Fraction: 0.7501353887142975\n",
      "\n",
      "Number of particles: 1170\n",
      " \n",
      "\n",
      "Orientational Correlation Time: 1.0\n",
      "\n",
      "Interaction time: 1.0\n",
      "\n"
     ]
    }
   ],
   "source": [
    "#Physical parameters:\n",
    "\n",
    "gamma_t = 1.0 #translational friction coefficient\n",
    "gamma_r = 1.0 #rotational friction coefficient\n",
    "\n",
    "alpha = 0.03 #Active self propulsion force, v_0 = alpha/gamma_t\n",
    "kT = 0 #temperature of the system, typically set to zero\n",
    "\n",
    "param_search = False\n",
    "\n",
    "if not param_search:\n",
    "    D_r = 1 #rotation diffusion coefficient\n",
    "else:\n",
    "    parser = argparse.ArgumentParser();\n",
    "    parser.add_argument('--param', help='Varied parameter value for the run.', default=None)\n",
    "    args = parser.parse_args()\n",
    "    \n",
    "    D_r = float(args.param)\n",
    "\n",
    "#Calculate some parameters:\n",
    "v0 = alpha/gamma_t #self propulsion speed\n",
    "mu = 1/gamma_t #mobility\n",
    "D_t = kT * mu #translational diffusion coefficient #this comes from Fluctuation-Dissipation Theorem\n",
    "kT_rot = D_r * gamma_r #rotational temperature, see brownian_rot_integrator.py\n",
    "\n",
    "#Box parameters:\n",
    "packing_frac=0.75\n",
    "phi = packing_frac/np.pi #particle number density, phi = N/L^2  # divide by np.pi when r=1\n",
    "L = 70 #Simulation box side length, makes square\n",
    "radius = 1 #Radius of particles if poly=0 #In initial config, center of particles are not closer than a together?\n",
    "poly = 0.3 #Implements polydispersity in particle, r_i = R * (1+ poly * uniform(-0.5, .0.5) )\n",
    "\n",
    "Np = int(round(phi*L**2)) #number of particles\n",
    "approx_packing = np.pi * radius**2 * Np / (L**2) #Note this is not true when poly =/= 0\n",
    "\n",
    "#Optional Forces:\n",
    "apply_soft_repulsive_force = True #applies soft harmonic force if particles are overlapping\n",
    "k = 1 #spring constant for harmonic force\n",
    "apply_velocity_alignment = True #Applies torque to each particle based on relative alignment with neighbors\n",
    "J = 1\n",
    "\n",
    "#Integration parameters:\n",
    "\n",
    "warm_up_time = 0 #1e0 #Run simulation for this amount of time to reach steady state\n",
    "tf = 1e2 #time to run simulation while logging physical quantities\n",
    "tstep = 1e-1 #Time step size for integration\n",
    "rand_seed = random.randint(1,10000) #random seed used for Brownian integration\n",
    "\n",
    "warm_up_nsteps = int(warm_up_time / tstep)\n",
    "nsteps = int(tf / tstep) #total number of time steps\n",
    "\n",
    "print(\"Packing Fraction: \" + str(approx_packing) + \"\\n\")\n",
    "print(\"Number of particles: \" + str(Np) + \"\\n \\n\")\n",
    "print(\"Orientational Correlation Time: \" + str(1/D_r if D_r !=0 else \"infinity\") + \"\\n\")\n",
    "print(\"Interaction time: \" + str(1/(mu*k))+\"\\n\")\n",
    "#print(\"Mean free time between collisions: \" + str(L**2 /(2*radius*v0*Np)))"
   ]
  },
  {
   "cell_type": "markdown",
   "metadata": {},
   "source": [
    "# Folders\n",
    "\n",
    "All research data is contained in a directory with path variable <em>save_dir</em>\n",
    "<br>\n",
    "<br>\n",
    "Within <em>save_dir</em>, there are different sub-directories corresponding to different types of experiments, with path variable <em>exp_dir</em>\n",
    "<br>\n",
    "<br>\n",
    "Within <em>exp_dir</em>, there are different sub-directories corresponding to different specific runs of the experiment, with path variable <em>run_dir</em>. These folders contain information about the specific run, and are named automatically by the date-time it was first run. Example: \"2-24-2021--22-15-52\" corresponds to 2/24/2021 at 10:15:52PM"
   ]
  },
  {
   "cell_type": "code",
   "execution_count": 3,
   "metadata": {},
   "outputs": [],
   "source": [
    "#Directory where all data is saved\n",
    "save_dir = \"/Users/ryanlopez/Desktop/Python_Programs/Dr_Marchetti_Research/Saved_Data\""
   ]
  },
  {
   "cell_type": "code",
   "execution_count": 4,
   "metadata": {},
   "outputs": [],
   "source": [
    "exp_folder_name = \"Vary_Dr_More_Params\" #Folder name of experiment directory, don't change inbetween runs unless studying something different\n",
    "\n",
    "load_date = None #Enter date in format 2-24-2021--22-15-52 (2/24/2021 at 10:15:52PM) to connect to previous run\n",
    "#If load_date = None, will start new experiment"
   ]
  },
  {
   "cell_type": "code",
   "execution_count": 5,
   "metadata": {},
   "outputs": [
    {
     "name": "stdout",
     "output_type": "stream",
     "text": [
      "Creation of the directory /Users/ryanlopez/Desktop/Python_Programs/Dr_Marchetti_Research/Saved_Data/Delete_This/D_r=1.0000_and_packing_frac=0.75 failed\n",
      "Creation of the directory /Users/ryanlopez/Desktop/Python_Programs/Dr_Marchetti_Research/Saved_Data/Delete_This/D_r=1.0000_and_packing_frac=0.75/snapshot_data/ failed\n"
     ]
    }
   ],
   "source": [
    "name = \"D_r=%.4f_and_packing_frac=%.2f\"%(D_r,approx_packing)\n",
    "exp_dir, run_dir, snapshot_dir = directories.create(save_dir, exp_folder_name, load_date, name=name)"
   ]
  },
  {
   "cell_type": "code",
   "execution_count": 6,
   "metadata": {},
   "outputs": [],
   "source": [
    "run_desc = OrderedDict()\n",
    "\n",
    "run_desc['gamma_t'] = gamma_t\n",
    "run_desc['gamma_r'] = gamma_r\n",
    "run_desc['alpha'] = alpha\n",
    "run_desc['kT'] = kT\n",
    "run_desc['D_r'] = D_r\n",
    "run_desc['v0'] = v0\n",
    "run_desc['mu'] = mu\n",
    "run_desc['D_t'] = D_t\n",
    "run_desc['kT_rot'] = kT_rot\n",
    "run_desc['phi'] = phi\n",
    "run_desc['L'] = L\n",
    "run_desc['radius'] = radius\n",
    "run_desc['poly'] = poly\n",
    "run_desc['Np'] = Np\n",
    "run_desc['approx_packing'] = approx_packing\n",
    "run_desc['k'] = k\n",
    "run_desc['J'] = J\n",
    "run_desc['warm_up_time'] = warm_up_time\n",
    "run_desc['tf'] = tf\n",
    "run_desc['tstep'] = tstep\n",
    "run_desc['rand_seed'] = rand_seed\n",
    "run_desc['warm_up_nsteps'] = warm_up_nsteps\n",
    "run_desc['nsteps'] = nsteps\n",
    "\n",
    "def write_desc():\n",
    "    run_desc_file = open(os.path.join(run_dir, \"run_desc.json\"), 'w')\n",
    "    run_desc_file.write(json.dumps(run_desc))\n",
    "    run_desc_file.close()\n",
    "write_desc()"
   ]
  },
  {
   "cell_type": "code",
   "execution_count": 7,
   "metadata": {},
   "outputs": [],
   "source": [
    "#creates random initial configuration, saves config to outfile\n",
    "random_init(phi, L, radius = radius, rcut=0, poly = poly, outfile=os.path.join(run_dir, 'init.json'))"
   ]
  },
  {
   "cell_type": "code",
   "execution_count": 8,
   "metadata": {},
   "outputs": [],
   "source": [
    "reader = md.fast_read_json(os.path.join(run_dir, 'init.json'))  #here we read the json file in c++\n",
    "system = md.System(reader.particles, reader.box)\n",
    "\n",
    "dump = md.Dump(system)          # Create a dump object\n",
    "\n",
    "evolver = md.Evolver(system)    # Create a system evolver object\n",
    "\n",
    "#add the forces and torques\n",
    "\n",
    "# Create pairwise repulsive interactions with the spring contant k = 10 and range a = 2.0\n",
    "if apply_soft_repulsive_force:\n",
    "    evolver.add_force(\"Soft Repulsive Force\", {\"k\": k})\n",
    "    #evolver.add_force(\"Harmonic Force\", {\"k\": k})\n",
    "    \n",
    "# Create self-propulsion, self-propulsion strength alpha\n",
    "evolver.add_force(\"Self Propulsion\", {\"alpha\": alpha})\n",
    "\n",
    "# Create pairwise polar alignment with alignment strength J = 1.0 and range a = 2.0\n",
    "if apply_velocity_alignment:\n",
    "    evolver.add_torque(\"Velocity Align\", {\"k\": J})\n",
    "\n",
    "#Add integrators\n",
    "\n",
    "# Integrator for updating particle position, friction gamma = 1.0 , \"random seed\" seed = 10203 and no thermal noise\n",
    "evolver.add_integrator(\"Brownian Positions\", {\"T\": kT, \"gamma\": gamma_t, \"seed\": rand_seed})\n",
    "\n",
    "# Integrator for updating particle orientation, friction gamma = 1.0, \"rotation\" T = 0.1, D_r = 0.0, \"random seed\" seed = 10203\n",
    "evolver.add_integrator(\"Brownian Rotation\", {\"T\": kT_rot, \"gamma\": gamma_r, \"seed\": rand_seed})\n",
    "\n",
    "evolver.set_time_step(tstep) # Set the time step for all the integrators\n"
   ]
  },
  {
   "cell_type": "code",
   "execution_count": 9,
   "metadata": {},
   "outputs": [
    {
     "name": "stdout",
     "output_type": "stream",
     "text": [
      "Warm up time complete\n"
     ]
    }
   ],
   "source": [
    "#warms up simulation to reach steady state\n",
    "for t in range(warm_up_nsteps):\n",
    "    evolver.evolve()\n",
    "print(\"Warm up time complete\")"
   ]
  },
  {
   "cell_type": "code",
   "execution_count": 10,
   "metadata": {},
   "outputs": [
    {
     "name": "stdout",
     "output_type": "stream",
     "text": [
      "Saving observables every 10 time steps\n",
      "Time step :  0\n",
      "Time step :  100\n",
      "Time step :  200\n",
      "Time step :  300\n",
      "Time step :  400\n",
      "Time step :  500\n",
      "Time step :  600\n",
      "Time step :  700\n",
      "Time step :  800\n",
      "Time step :  900\n",
      "done\n"
     ]
    }
   ],
   "source": [
    "total_snapshots = 100 #total number of snapshots to save\n",
    "print(\"Saving observables every %s time steps\"%(int(nsteps/total_snapshots)))\n",
    "\n",
    "#simulation while logging quantities:\n",
    "for t in range(nsteps):\n",
    "    if t % int(nsteps/10) == 0:\n",
    "        print(\"Time step : \", t)\n",
    "    evolver.evolve()    # Evolve the system by one time step\n",
    "    if t % int(nsteps/total_snapshots) == 0:     #Save snapshot of the observable data\n",
    "        snapshot_file_path = os.path.join(snapshot_dir, 'snapshot_{:08d}.txt'.format(t))\n",
    "        dump.dump_data(snapshot_file_path) #Saves data in .txt file\n",
    "        snapshot_file_path = os.path.join(snapshot_dir, 'snapshot_{:08d}.vtp'.format(t))\n",
    "        dump.dump_vtp(snapshot_file_path) #Saves data in .vtp file for visualization\n",
    "print(\"done\")"
   ]
  },
  {
   "cell_type": "code",
   "execution_count": 11,
   "metadata": {},
   "outputs": [],
   "source": [
    "exp_data = rd.get_exp_data(snapshot_dir)\n",
    "position_data = rd.get_position_data(snapshot_dir)"
   ]
  },
  {
   "cell_type": "code",
   "execution_count": 12,
   "metadata": {},
   "outputs": [],
   "source": [
    "vicsek_param, vel_param = flocking_factors.get_flocking_factors(exp_data, v0)\n",
    "\n",
    "#plt.plot(vicsek_param)\n",
    "#plt.plot(vel_param)\n",
    "\n",
    "MSD_sim_ensemble, _ = MSD.get_MSD_sim_data(position_data, L)\n",
    "dir_dot_vel, dir_dot_vel_norm = various.get_dir_dot_vel(exp_data)\n",
    "_, v_mag_data = various.get_vel_mag_distr(exp_data)"
   ]
  },
  {
   "cell_type": "code",
   "execution_count": 15,
   "metadata": {},
   "outputs": [],
   "source": [
    "run_desc['vicsek_param'] = np.average(vicsek_param)\n",
    "run_desc['vel_param'] = np.average(vel_param)\n",
    "np.save(os.path.join(run_dir, \"MSD_sim_ensemble.npy\"), MSD_sim_ensemble)\n",
    "np.save(os.path.join(run_dir, \"dir_dot_vel.npy\"), dir_dot_vel)\n",
    "np.save(os.path.join(run_dir, \"dir_dot_vel_norm.npy\"), dir_dot_vel_norm)\n",
    "np.save(os.path.join(run_dir, \"v_mag_data.npy\"), v_mag_data)\n",
    "\n",
    "write_desc()"
   ]
  }
 ],
 "metadata": {
  "kernelspec": {
   "display_name": "Python 3",
   "language": "python",
   "name": "python3"
  },
  "language_info": {
   "codemirror_mode": {
    "name": "ipython",
    "version": 3
   },
   "file_extension": ".py",
   "mimetype": "text/x-python",
   "name": "python",
   "nbconvert_exporter": "python",
   "pygments_lexer": "ipython3",
   "version": "3.7.7"
  }
 },
 "nbformat": 4,
 "nbformat_minor": 2
}
