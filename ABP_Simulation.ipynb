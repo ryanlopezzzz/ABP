{
 "cells": [
  {
   "cell_type": "markdown",
   "metadata": {},
   "source": [
    "# Implementing a 2D Simulation of Active Brownian Particles"
   ]
  },
  {
   "cell_type": "code",
   "execution_count": 1,
   "metadata": {},
   "outputs": [],
   "source": [
    "#Imports\n",
    "\n",
    "import sys\n",
    "import os\n",
    "import numpy as np\n",
    "import random\n",
    "import matplotlib\n",
    "import matplotlib.pyplot as plt\n",
    "import datetime\n",
    "import pdb #python debugger\n",
    "from timeit import default_timer as timer #timer\n",
    "\n",
    "sys.path.insert(1, '/Users/ryanlopez/ABPTutorial/c++') #Connects to ABP Folder github.com/ryanlopezzzz/ABPTutorial\n",
    "from cppmd.builder import *\n",
    "import cppmd as md\n",
    "\n",
    "import read_data as rd #reads snapshot text data\n",
    "import MSD #calculates MSD\n",
    "import directories #used to create directories for saving data"
   ]
  },
  {
   "cell_type": "markdown",
   "metadata": {},
   "source": [
    "# Folders\n",
    "\n",
    "All research data is contained in a directory with path variable <em>save_dir</em>\n",
    "<br>\n",
    "<br>\n",
    "Within <em>save_dir</em>, there are different sub-directories corresponding to different types of experiments, with path variable <em>exp_dir</em>\n",
    "<br>\n",
    "<br>\n",
    "Within <em>exp_dir</em>, there are different sub-directories corresponding to different specific runs of the experiment, with path variable <em>run_dir</em>. These folders contain information about the specific run, and are named automatically by the date-time it was first run. Example: \"2-24-2021--22-15-52\" corresponds to 2/24/2021 at 10:15:52PM"
   ]
  },
  {
   "cell_type": "code",
   "execution_count": 2,
   "metadata": {},
   "outputs": [],
   "source": [
    "#Directory where all data is saved\n",
    "save_dir = \"/Users/ryanlopez/Desktop/Python_Programs/Dr_Marchetti_Research/Saved_Data\""
   ]
  },
  {
   "cell_type": "code",
   "execution_count": 3,
   "metadata": {},
   "outputs": [],
   "source": [
    "exp_folder_name = \"MSD_ABP\" #Folder name of experiment directory, don't change inbetween runs unless studying something different\n",
    "\n",
    "load_date = None #Enter date in format 2-24-2021--22-15-52 (2/24/2021 at 10:15:52PM) to connect to previous run\n",
    "#If load_date = None, will start new experiment"
   ]
  },
  {
   "cell_type": "code",
   "execution_count": 4,
   "metadata": {},
   "outputs": [
    {
     "name": "stdout",
     "output_type": "stream",
     "text": [
      "Successfully created the directory /Users/ryanlopez/Desktop/Python_Programs/Dr_Marchetti_Research/Saved_Data/MSD_ABP/3-3-2021--8-48-23 \n",
      "Successfully created the directory /Users/ryanlopez/Desktop/Python_Programs/Dr_Marchetti_Research/Saved_Data/MSD_ABP/3-3-2021--8-48-23/snapshot_data/ \n"
     ]
    }
   ],
   "source": [
    "exp_dir, run_dir, snapshot_dir = directories.create(save_dir, exp_folder_name, load_date)"
   ]
  },
  {
   "cell_type": "markdown",
   "metadata": {},
   "source": [
    "## ABP Physics\n",
    "\n",
    "ABPs are described by the coupled Langevin Equations:\n",
    "<br>\n",
    "<br>\n",
    "$\\dot{r}_i = v_0 \\hat{n} + \\mu \\sum_j F_{ij} + \\xi_i^t$\n",
    "<br>\n",
    "$\\dot{\\theta}_i = \\xi_i^r$\n",
    "<br>\n",
    "<br>\n",
    "Where both $\\xi^t$ and $\\xi^r$ are Gaussian white noise which satisfy:\n",
    "<br>\n",
    "<br>\n",
    "$<\\xi_i^t \\xi_j^t> = 2D_t \\delta_{ij}$\n",
    "<br>\n",
    "$<\\xi_i^r \\xi_j^r> = 2D_r \\delta_{ij}$\n",
    "<br>\n",
    "<br>\n",
    "The relevant physics of the ABPs is determined through 4 parameters:\n",
    "\n",
    "$Pe_r = \\frac{v_0}{D_r a}$ (Peclet number, $a$ is the particle's radius)\n",
    "<br>\n",
    "$\\mu = 1$ (Particle Mobility)\n"
   ]
  },
  {
   "cell_type": "markdown",
   "metadata": {},
   "source": [
    "### Dimensionless quantities I should use:\n",
    "Packing fraction\n",
    "\n",
    "Peclet Number $Pe_r = \\frac{v_0 \\tau_r}{a}=\\frac{v_0}{D_r a}$\n",
    "\n",
    "Set $D_t = 0$ almost always\n",
    "\n",
    "Time scale $\\tau_k = \\frac{1}{\\mu k}$ Maybe?\n",
    "\n",
    "Mobility $\\mu = \\frac{1}{\\gamma_t}$\n",
    "\n",
    "Fluctuation-Dissipation Theorem: $D_t = k T \\mu$"
   ]
  },
  {
   "cell_type": "code",
   "execution_count": 5,
   "metadata": {},
   "outputs": [
    {
     "name": "stdout",
     "output_type": "stream",
     "text": [
      "Packing Fraction: 0.7068583470577035\n",
      "\n",
      "Number of particles: 1000\n"
     ]
    }
   ],
   "source": [
    "#Physical parameters:\n",
    "\n",
    "gamma_t = 1.0 #translational friction coefficient\n",
    "gamma_r = 1.0 #rotational friction coefficient\n",
    "\n",
    "alpha = 0.1 #0.5 #Active self propulsion force, v_0 = alpha/gamma_t\n",
    "kT = 0 #temperature of the system, typically set to zero\n",
    "\n",
    "D_r = 1.0 #rotation diffusion coefficient\n",
    "\n",
    "\n",
    "#Calculate some parameters:\n",
    "v0 = alpha/gamma_t #self propulsion speed\n",
    "mu = 1/gamma_t #mobility\n",
    "D_t = kT * mu #translational diffusion coefficient #this comes from Fluctuation-Dissipation Theorem\n",
    "kT_rot = D_r * gamma_r #rotational temperature, see brownian_rot_integrator.py\n",
    "\n",
    "#Box parameters:\n",
    "\n",
    "phi = 0.4 #particle number density, phi = N/L^2 \n",
    "L = 50 #Simulation box side length, makes square\n",
    "radius = 0.75 #Radius of particles if poly=0 #In initial config, center of particles are not closer than a together?\n",
    "poly = 0.05 #Implements polydispersity in particle, r_i = R * (1+ poly * uniform(-0.5, .0.5) )\n",
    "\n",
    "Np = int(phi*L**2) #number of particles\n",
    "approx_packing = np.pi * radius**2 * Np / (L**2) #Note this is not true when poly =/= 0\n",
    "\n",
    "#Optional Forces:\n",
    "apply_soft_repulsive_force = True #whether to apply harmonic function\n",
    "k = 1.0 #spring constant for harmonic force\n",
    "apply_polar_alignment = False #Applies torque to each particle based on relative alignment with neighbors\n",
    "\n",
    "#Integration parameters:\n",
    "\n",
    "warm_up_time = 0 #1e0 #Run simulation for this amount of time to reach steady state\n",
    "tf = 1e2 #time to run simulation while logging physical quantities\n",
    "tstep = 1e-3 #Time step size for integration\n",
    "rand_seed = random.randint(1,10000) #random seed used for Brownian integration\n",
    "\n",
    "warm_up_nsteps = int(warm_up_time / tstep)\n",
    "nsteps = int(tf / tstep) #total number of time steps\n",
    "\n",
    "print(\"Packing Fraction: \" + str(approx_packing) + \"\\n\")\n",
    "print(\"Number of particles: \" + str(Np))"
   ]
  },
  {
   "cell_type": "code",
   "execution_count": 6,
   "metadata": {},
   "outputs": [],
   "source": [
    "#creates random initial configuration, saves config to outfile\n",
    "random_init(phi, L, radius = radius, rcut=0, poly = poly, outfile=os.path.join(run_dir, 'init.json'))"
   ]
  },
  {
   "cell_type": "code",
   "execution_count": 7,
   "metadata": {},
   "outputs": [],
   "source": [
    "#%matplotlib widget\n",
    "\n",
    "reader = md.fast_read_json(os.path.join(run_dir, 'init.json'))  #here we read the json file in c++\n",
    "system = md.System(reader.particles, reader.box)\n",
    "\n",
    "dump = md.Dump(system)          # Create a dump object\n",
    "\n",
    "evolver = md.Evolver(system)    # Create a system evolver object\n",
    "\n",
    "#add the forces and torques\n",
    "\n",
    "# Create pairwise repulsive interactions with the spring contant k = 10 and range a = 2.0\n",
    "if apply_soft_repulsive_force:\n",
    "    evolver.add_force(\"Soft Repulsive Force\", {\"k\": k})\n",
    "    \n",
    "# Create self-propulsion, self-propulsion strength alpha\n",
    "evolver.add_force(\"Self Propulsion\", {\"alpha\": alpha})\n",
    "\n",
    "# Create pairwise polar alignment with alignment strength J = 1.0 and range a = 2.0\n",
    "if apply_polar_alignment:\n",
    "    evolver.add_torque(\"Polar Align\", {\"k\": k, \"a\": 2.0})\n",
    "\n",
    "#Add integrators\n",
    "\n",
    "# Integrator for updating particle position, friction gamma = 1.0 , \"random seed\" seed = 10203 and no thermal noise\n",
    "evolver.add_integrator(\"Brownian Positions\", {\"T\": kT, \"gamma\": gamma_t, \"seed\": rand_seed})\n",
    "\n",
    "# Integrator for updating particle orientation, friction gamma = 1.0, \"rotation\" T = 0.1, D_r = 0.0, \"random seed\" seed = 10203\n",
    "evolver.add_integrator(\"Brownian Rotation\", {\"T\": kT_rot, \"gamma\": gamma_r, \"seed\": rand_seed})\n",
    "\n",
    "evolver.set_time_step(tstep) # Set the time step for all the integrators\n"
   ]
  },
  {
   "cell_type": "code",
   "execution_count": 8,
   "metadata": {},
   "outputs": [
    {
     "name": "stdout",
     "output_type": "stream",
     "text": [
      "Warm up time complete\n"
     ]
    }
   ],
   "source": [
    "#warms up simulation to reach steady state\n",
    "for t in range(warm_up_nsteps):\n",
    "    evolver.evolve()\n",
    "print(\"Warm up time complete\")"
   ]
  },
  {
   "cell_type": "code",
   "execution_count": 9,
   "metadata": {},
   "outputs": [
    {
     "name": "stdout",
     "output_type": "stream",
     "text": [
      "Saving observables every 100 time steps\n",
      "Time step :  0\n",
      "Time step :  10000\n",
      "Time step :  20000\n",
      "Time step :  30000\n",
      "Time step :  40000\n",
      "Time step :  50000\n",
      "Time step :  60000\n",
      "Time step :  70000\n",
      "Time step :  80000\n",
      "Time step :  90000\n",
      "done\n"
     ]
    }
   ],
   "source": [
    "total_snapshots = 1000 #total number of snapshots to save\n",
    "print(\"Saving observables every %s time steps\"%(int(nsteps/total_snapshots)))\n",
    "\n",
    "#simulation while logging quantities:\n",
    "for t in range(nsteps):\n",
    "    if t % int(nsteps/10) == 0:\n",
    "        print(\"Time step : \", t)\n",
    "    evolver.evolve()    # Evolve the system by one time step\n",
    "    if t % int(nsteps/total_snapshots) == 0:     #Save snapshot of the observable data\n",
    "        snapshot_file_path = os.path.join(snapshot_dir, 'snapshot_{:05d}.txt'.format(t))\n",
    "        dump.dump_data(snapshot_file_path) #note velocities are correctly calculated, equals zero\n",
    "print(\"done\")"
   ]
  },
  {
   "cell_type": "code",
   "execution_count": 10,
   "metadata": {},
   "outputs": [],
   "source": [
    "#get position data from snapshots\n",
    "position_data = rd.get_position_data(snapshot_dir) #shape [num of time snapshots, num of particles, (2) spatial dims]"
   ]
  },
  {
   "cell_type": "markdown",
   "metadata": {},
   "source": [
    "Theoretical predictions for MSD is (see \"Minimal model of active colloids highlights the role of mechanical\n",
    "interactions...\")\n",
    "<br>\n",
    "<br>\n",
    "$<\\Delta r(t)^2> = 4D_t t + 2v_0^2 \\tau_r [t-\\tau_r (1-exp(-t/\\tau_r))]$\n",
    "\n",
    "<br>\n",
    "Note the definition that $\\tau_r = 1/D_r$."
   ]
  },
  {
   "cell_type": "code",
   "execution_count": 11,
   "metadata": {},
   "outputs": [],
   "source": [
    "#Calculate theoretical MSD:\n",
    "\n",
    "times = np.linspace(0,tf,num=total_snapshots-1)\n",
    "tau_r = 1/D_r\n",
    "MSD_theory = 4*D_t*times+2*(v0**2)*tau_r*(times-tau_r*(1-np.exp(-times/tau_r)))"
   ]
  },
  {
   "cell_type": "markdown",
   "metadata": {},
   "source": [
    "Experimental MSD can be calculated from displacement, so I consider the difference in positions at each time step. The periodic boundary conditions must be accounted for. I make the assumption the in 1 time step the particle will never traverse more than half of the boxes length in any dimension (or else actual displacement becomes unclear). The formula used for displacement in the x dimension $D_x$ going from position $x_i$ to $x_f$ is:\n",
    "<br>\n",
    "<br>\n",
    "$D_x = \\left[ \\left(x_f-x_i+\\frac{3L_x}{2} \\right)\\% L_x \\right] - \\frac{L_x}{2} $\n",
    "<br>\n",
    "<br>\n",
    "Where $\\%$ denotes the modulo operator. This formula can be verified by checking all cases. Same formula for y dimension."
   ]
  },
  {
   "cell_type": "code",
   "execution_count": 12,
   "metadata": {},
   "outputs": [],
   "source": [
    "#Calculate MSD from Simulation: \n",
    "MSD_sim_ensemble, MSD_sim = MSD.get_MSD_sim_data(position_data, L)"
   ]
  },
  {
   "cell_type": "code",
   "execution_count": 13,
   "metadata": {},
   "outputs": [
    {
     "data": {
      "image/png": "[encoded data removed]",
      "text/plain": [
       "<Figure size 1008x504 with 1 Axes>"
      ]
     },
     "metadata": {
      "needs_background": "light"
     },
     "output_type": "display_data"
    }
   ],
   "source": [
    "#Plot various MSD:\n",
    "\n",
    "caption=r\"MSD study for Active Brownian Particles with no interactions. Ensemble consists of %d Particles. Parameters are $D_r = %.3f, D_t = %.2f, \\mu=%.1f, v_0=%.3f$.\"%(Np,D_r,D_t,mu,v0)             \n",
    "\n",
    "fig, ax = plt.subplots(figsize=(14,7))\n",
    "#ax.plot(times, MSD_theory, color = \"blue\", label='Theory MSD')\n",
    "ax.plot(times, MSD_sim_ensemble, color = \"red\", label='Ensemble MSD')\n",
    "#ax.plot(times, MSD_sim.T[0], color = \"purple\", label='Single Particle MSD')\n",
    "#plt.yscale('log')\n",
    "#plt.xscale('log')\n",
    "\n",
    "ax.set(xlabel='time (s)', ylabel=r'$<\\Delta r^2>$',\n",
    "       title='Various MSD')\n",
    "ax.legend()\n",
    "\n",
    "fig.text(.5, -.05, caption, ha='center', fontsize=12)\n",
    "plt.show()"
   ]
  }
 ],
 "metadata": {
  "kernelspec": {
   "display_name": "Python 3",
   "language": "python",
   "name": "python3"
  },
  "language_info": {
   "codemirror_mode": {
    "name": "ipython",
    "version": 3
   },
   "file_extension": ".py",
   "mimetype": "text/x-python",
   "name": "python",
   "nbconvert_exporter": "python",
   "pygments_lexer": "ipython3",
   "version": "3.7.7"
  }
 },
 "nbformat": 4,
 "nbformat_minor": 2
}
