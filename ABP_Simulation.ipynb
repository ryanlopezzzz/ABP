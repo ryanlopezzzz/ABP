{
 "cells": [
  {
   "cell_type": "markdown",
   "metadata": {},
   "source": [
    "# 2D Simulation of Active Brownian Particles with Velocity Alignment"
   ]
  },
  {
   "cell_type": "code",
   "execution_count": 34,
   "metadata": {},
   "outputs": [],
   "source": [
    "import sys\n",
    "import os\n",
    "import numpy as np\n",
    "import random\n",
    "import matplotlib\n",
    "import matplotlib.pyplot as plt\n",
    "import datetime\n",
    "import pdb #python debugger\n",
    "from collections import OrderedDict\n",
    "import argparse\n",
    "sys.path.insert(1, '/Users/ryanlopez/ABPTutorial/c++') #Connects to ABP Folder github.com/ryanlopezzzz/ABPTutorial\n",
    "from cppmd.builder import *\n",
    "import cppmd as md\n",
    "import read_data as rd #reads snapshot text data\n",
    "import directories #used to create directories for saving data\n",
    "import Physical_Quantities.MSD as MSD\n",
    "import Physical_Quantities.flocking_factors as flocking_factors\n",
    "import Physical_Quantities.various as various"
   ]
  },
  {
   "cell_type": "markdown",
   "metadata": {},
   "source": [
    "## Active Brownian Particle (ABP) Physics\n",
    "\n",
    "We consider a system of active colloids with velocity alignment in 2D. The dynamics are described by the coupled Langevin Equations:\n",
    "<br>\n",
    "<br>\n",
    "$\\dot{\\textbf{r}}_i = v_0 \\hat{\\textbf{n}} + \\mu \\sum_j \\textbf{F}_{ij} +\\xi_i^t$\n",
    "<br>\n",
    "$\\dot{\\theta}_i = J(\\textbf{v}_i \\times \\hat{\\textbf{n}}) \\cdot \\hat{\\textbf{z}} +  \\xi_i^r$\n",
    "<br>\n",
    "<br>\n",
    "Where both $\\xi^t$ and $\\xi^r$ are Gaussian white noise which satisfy:\n",
    "<br>\n",
    "<br>\n",
    "$<\\xi_i^t(t) \\xi_j^t (t')> = 2D_t \\delta_{ij} \\delta(t-t') $\n",
    "<br>\n",
    "$<\\xi_i^r (t) \\xi_j^r (t')> = 2D_r \\delta_{ij} \\delta(t-t')$\n",
    "<br>\n",
    "<br>\n",
    "We restrict our system to be at zero temperature ($D_t=0$) with unit mobility ($\\mu = 1$) and harmonic pair repulsion forces when particles overlap $\\textbf{F}_{ij} = -k(R_i+R_j-r_{ij})\\hat{\\textbf{r}}_{ij}$\n",
    "\n",
    "\n"
   ]
  },
  {
   "cell_type": "code",
   "execution_count": 52,
   "metadata": {},
   "outputs": [],
   "source": [
    "\"\"\"\n",
    "Throughout all simulations there are only four variables which are usually varied\n",
    "\n",
    "    J            :   Orientational Torque Coefficient\n",
    "    D_r          :   Rotational Diffusion Rate\n",
    "    v0           :   Active Self Propulsion Speed\n",
    "    packing_frac :   Approx. Packing Fraction (Defined as \\pi * <R>^2 * Num particles / Area of Box)\n",
    "\"\"\"\n",
    "param_search = False #If True, params for run are determined from command line (Good for trying lots of params)\n",
    "\n",
    "if param_search:\n",
    "    parser = argparse.ArgumentParser()\n",
    "    parser.add_argument('--params', nargs='+', help='Varied parameter value for the run.', default=None)\n",
    "    args = parser.parse_args()\n",
    "    \n",
    "    J = float(args.params[0]) #This variable determined by \n",
    "    D_r = float(args.params[1])\n",
    "\n",
    "J=2\n",
    "D_r=0.03\n",
    "v0=0.15 #np.sqrt(2 * gamma_t * D_r * Teff)\n",
    "packing_frac=0.6 "
   ]
  },
  {
   "cell_type": "code",
   "execution_count": 55,
   "metadata": {},
   "outputs": [],
   "source": [
    "\"\"\"\n",
    "Assigned physical parameters:\n",
    "\"\"\"\n",
    "gamma_t = 1.0 #translational friction coefficient\n",
    "gamma_r = 1.0 #rotational friction coefficient\n",
    "kT = 0 #temperature of the system, typically set to zero\n",
    "radius = 1 #Average radius of particles\n",
    "poly = 0.3 #Implements polydispersity in particle, r_i = R * (1+ poly * uniform(-0.5, .0.5) )\n",
    "k = 1 #spring constant for harmonic force\n",
    "L = 70 #Simulation box side length\n",
    "\n",
    "\"\"\"\n",
    "Calculated physical paramters:\n",
    "\"\"\"\n",
    "Teff = 0.5 * gamma_t * v0**2 / D_r\n",
    "alpha = v0 * gamma_t \n",
    "mu = 1/gamma_t #mobility\n",
    "D_t = kT * mu #translational diffusion coefficient, this comes from Fluctuation-Dissipation Theorem\n",
    "kT_rot = D_r * gamma_r #rotational temperature, see brownian_rot_integrator.py\n",
    "phi = packing_frac / (np.pi*radius**2) #particle number density, phi = N/(L^2 * <R^2>)\n",
    "Np = int(round(phi*L**2)) #number of particles\n",
    "\n",
    "\"\"\"\n",
    "Simulation computation parameters:\n",
    "\"\"\"\n",
    "warm_up_time = 8e3 #Run simulation for this amount of time to reach steady state\n",
    "tf = 2e3 #Time to run simulation while logging physical quantities, after reach steady state\n",
    "tstep = 1e-2 #Time step size for integration\n",
    "warm_up_nsteps = int(warm_up_time / tstep) #number of integration steps for warming up\n",
    "nsteps = int(tf / tstep) #number of int. steps for logging physical quantites\n",
    "rand_seed = random.randint(1,10000) #random seed used for Brownian integration"
   ]
  },
  {
   "cell_type": "code",
   "execution_count": 56,
   "metadata": {},
   "outputs": [
    {
     "name": "stdout",
     "output_type": "stream",
     "text": [
      "Orientational Correlation Time: 33.333333333333336\n",
      "\n",
      "Harmonic interaction time: 1.0\n",
      "\n",
      "Mean free time between collisions from self propulsion: 17.45014245014245\n"
     ]
    }
   ],
   "source": [
    "print(\"Orientational Correlation Time: \" + str(1/D_r if D_r !=0 else \"infinity\") + \"\\n\")\n",
    "print(\"Harmonic interaction time: \" + str(1/(mu*k))+\"\\n\")\n",
    "print(\"Mean free time between collisions from self propulsion: \" + str(L**2 /(2*radius*v0*Np) if v0!=0 else \"infinity\"))"
   ]
  },
  {
   "cell_type": "markdown",
   "metadata": {},
   "source": [
    "# Folders\n",
    "\n",
    "All research data is contained in a directory with path variable <em>save_dir</em>\n",
    "<br>\n",
    "<br>\n",
    "Within <em>save_dir</em>, there are different sub-directories corresponding to different types of experiments, with path variable <em>exp_dir</em>\n",
    "<br>\n",
    "<br>\n",
    "Within <em>exp_dir</em>, there are different sub-directories corresponding to different specific runs of the experiment, with path variable <em>run_dir</em>. These folders contain information about the specific run, and are typically named by the parameters of that particular run."
   ]
  },
  {
   "cell_type": "code",
   "execution_count": 63,
   "metadata": {},
   "outputs": [
    {
     "name": "stdout",
     "output_type": "stream",
     "text": [
      "Successfully created the directory /Users/ryanlopez/Desktop/Python_Programs/Dr_Marchetti_Research/Saved_Data/Crazy_Test/Second_Test \n",
      "Successfully created the directory /Users/ryanlopez/Desktop/Python_Programs/Dr_Marchetti_Research/Saved_Data/Crazy_Test/Second_Test/snapshot_data/ \n"
     ]
    }
   ],
   "source": [
    "save_dir = \"/Users/ryanlopez/Desktop/Python_Programs/Dr_Marchetti_Research/Saved_Data\"\n",
    "exp_folder_name = \"glass_vary_J_Dr\"\n",
    "run_folder_name = \"D_r=%.4f_and_J=%.4f\"%(D_r,J)\n",
    "\n",
    "exp_dir, run_dir, snapshot_dir = directories.create(save_dir, exp_folder_name, run_folder_name)"
   ]
  },
  {
   "cell_type": "code",
   "execution_count": 64,
   "metadata": {},
   "outputs": [],
   "source": [
    "\"\"\"\n",
    "run_desc is an Ordered Dictionary that contains all the data necessary to reproduce the simulation\n",
    "\"\"\"\n",
    "run_desc = OrderedDict({\n",
    "    'J':J,\n",
    "    'D_r':D_r,\n",
    "    'v0':v0,\n",
    "    'packing_frac':packing_frac,\n",
    "    'gamma_t':gamma_t,\n",
    "    'gamma_r':gamma_r,\n",
    "    'kT':kT,\n",
    "    'radius':radius,\n",
    "    'poly':poly,\n",
    "    'k':k,\n",
    "    'L':L,\n",
    "    'warm_up_time':warm_up_time,\n",
    "    'tf':tf,\n",
    "    'tstep':tstep,\n",
    "    'rand_seed':rand_seed\n",
    "})\n",
    "def write_desc():\n",
    "    run_desc_file = open(os.path.join(run_dir, \"run_desc.json\"), 'w')\n",
    "    run_desc_file.write(json.dumps(run_desc))\n",
    "    run_desc_file.close()\n",
    "write_desc()"
   ]
  },
  {
   "cell_type": "code",
   "execution_count": 65,
   "metadata": {},
   "outputs": [],
   "source": [
    "#creates random initial configuration, saves config to outfile\n",
    "random_init(phi, L, radius = radius, rcut=0, poly = poly, outfile=os.path.join(run_dir, 'init.json'))"
   ]
  },
  {
   "cell_type": "code",
   "execution_count": 66,
   "metadata": {},
   "outputs": [],
   "source": [
    "reader = md.fast_read_json(os.path.join(run_dir, 'init.json'))  #here we read the json file in c++\n",
    "system = md.System(reader.particles, reader.box)\n",
    "\n",
    "dump = md.Dump(system)          # Create a dump object\n",
    "\n",
    "evolver = md.Evolver(system)    # Create a system evolver object\n",
    "\n",
    "#add the forces and torques\n",
    "\n",
    "# Create pairwise repulsive interactions with harmonic strength k\n",
    "evolver.add_force(\"Soft Repulsive Force\", {\"k\": k})\n",
    "\n",
    "# Create self-propulsion, self-propulsion strength alpha\n",
    "evolver.add_force(\"Self Propulsion\", {\"alpha\": alpha})\n",
    "\n",
    "# Create pairwise polar alignment with alignment strength J =\n",
    "evolver.add_torque(\"Velocity Align\", {\"k\": J})\n",
    "\n",
    "#Add integrators\n",
    "\n",
    "# Integrator for updating particle position, friction gamma = 1.0 , \"random seed\" seed = 10203 and no thermal noise\n",
    "evolver.add_integrator(\"Brownian Positions\", {\"T\": kT, \"gamma\": gamma_t, \"seed\": rand_seed})\n",
    "\n",
    "# Integrator for updating particle orientation, friction gamma = 1.0, \"rotation\" T = 0.1, D_r = 0.0, \"random seed\" seed = 10203\n",
    "evolver.add_integrator(\"Brownian Rotation\", {\"T\": kT_rot, \"gamma\": gamma_r, \"seed\": rand_seed})\n",
    "\n",
    "evolver.set_time_step(tstep) # Set the time step for all the integrators"
   ]
  },
  {
   "cell_type": "code",
   "execution_count": 67,
   "metadata": {},
   "outputs": [
    {
     "name": "stdout",
     "output_type": "stream",
     "text": [
      "Warm up time complete\n"
     ]
    }
   ],
   "source": [
    "#warms up simulation to reach steady state\n",
    "for t in range(warm_up_nsteps):\n",
    "    evolver.evolve()\n",
    "print(\"Warm up time complete\")"
   ]
  },
  {
   "cell_type": "code",
   "execution_count": 68,
   "metadata": {},
   "outputs": [
    {
     "name": "stdout",
     "output_type": "stream",
     "text": [
      "Saving observables every 3000 time steps\n",
      "Time step :  0\n",
      "Time step :  30000\n",
      "Time step :  60000\n",
      "Time step :  90000\n",
      "Time step :  120000\n",
      "Time step :  150000\n",
      "Time step :  180000\n",
      "Time step :  210000\n",
      "Time step :  240000\n",
      "Time step :  270000\n",
      "done\n"
     ]
    }
   ],
   "source": [
    "total_snapshots = 100 #total number of snapshots to save\n",
    "print(\"Saving observables every %s time steps\"%(int(nsteps/total_snapshots)))\n",
    "\n",
    "#simulation while logging quantities:\n",
    "for t in range(nsteps):\n",
    "    if t % int(nsteps/10) == 0:\n",
    "        print(\"Time step : \", t)\n",
    "    evolver.evolve()    # Evolve the system by one time step\n",
    "    if t % int(nsteps/total_snapshots) == 0:     #Save snapshot of the observable data\n",
    "        snapshot_file_path = os.path.join(snapshot_dir, 'snapshot_{:05d}.txt'.format(t))\n",
    "        dump.dump_data(snapshot_file_path) #Saves data in .txt file\n",
    "        snapshot_file_path = os.path.join(snapshot_dir, 'snapshot_{:05d}.vtp'.format(t))\n",
    "        dump.dump_vtp(snapshot_file_path) #Saves data in .vtp file for visualization\n",
    "print(\"done\")"
   ]
  }
 ],
 "metadata": {
  "kernelspec": {
   "display_name": "Python 3",
   "language": "python",
   "name": "python3"
  },
  "language_info": {
   "codemirror_mode": {
    "name": "ipython",
    "version": 3
   },
   "file_extension": ".py",
   "mimetype": "text/x-python",
   "name": "python",
   "nbconvert_exporter": "python",
   "pygments_lexer": "ipython3",
   "version": "3.7.4"
  }
 },
 "nbformat": 4,
 "nbformat_minor": 2
}
