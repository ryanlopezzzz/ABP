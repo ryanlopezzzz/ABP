{
 "cells": [
  {
   "cell_type": "code",
   "execution_count": 3,
   "metadata": {},
   "outputs": [
    {
     "data": {
      "text/plain": [
       "<module 'Physical_Quantities.fourier_calculations' from '/Users/ryanlopez/Desktop/Python_Programs/Dr_Marchetti_Research/ABP/Physical_Quantities/fourier_calculations.py'>"
      ]
     },
     "execution_count": 3,
     "metadata": {},
     "output_type": "execute_result"
    }
   ],
   "source": [
    "import sys\n",
    "import os\n",
    "import numpy as np\n",
    "from scipy.optimize import curve_fit\n",
    "import random\n",
    "import matplotlib\n",
    "import matplotlib.pyplot as plt\n",
    "import datetime\n",
    "import pdb #python debugger\n",
    "from timeit import default_timer as timer #timer\n",
    "from collections import OrderedDict\n",
    "import importlib\n",
    "sys.path.insert(1, '/Users/ryanlopez/ABPTutorial/c++') #Connects to ABP Folder github.com/ryanlopezzzz/ABPTutorial\n",
    "from cppmd.builder import *\n",
    "import cppmd as md\n",
    "import read_data as rd #reads snapshot text data\n",
    "import directories #used to create directories for saving data\n",
    "import Physical_Quantities.vorticity as vorticity\n",
    "import Physical_Quantities.fourier_calculations as fc\n",
    "importlib.reload(vorticity)\n",
    "importlib.reload(fc)"
   ]
  },
  {
   "cell_type": "markdown",
   "metadata": {},
   "source": [
    "# Load Simulation Data"
   ]
  },
  {
   "cell_type": "code",
   "execution_count": 4,
   "metadata": {},
   "outputs": [],
   "source": [
    "#Directory where all data is saved\n",
    "save_dir = \"/Users/ryanlopez/Desktop/Python_Programs/Dr_Marchetti_Research/Saved_Data\"\n",
    "exp_folder_name = \"Vary_phi_and_Dr=0.2\" #Folder name of experiment directory, don't change inbetween runs unless studying something different\n",
    "exp_dir = os.path.join(save_dir, exp_folder_name)\n",
    "\n",
    "varied_values = []\n",
    "vicsek_values = []\n",
    "velocity_values = []\n",
    "dir_dot_vel_values = []\n",
    "dir_dot_vel_norm_values = []\n",
    "v_mag_data_values = []\n",
    "exp_data = []\n",
    "\n",
    "for f in os.scandir(exp_dir): #runs through all immediate subdirectories\n",
    "    if f.is_dir() and f.path != os.path.join(exp_dir, \".ipynb_checkpoints\"):\n",
    "        run_desc_file = open(os.path.join(f, 'run_desc.json'))\n",
    "        run_desc = json.loads(run_desc_file.read())\n",
    "        run_desc_file.close()\n",
    "\n",
    "        varied_values.append(run_desc['approx_packing'])\n",
    "        vicsek_values.append(run_desc['vicsek_param'])\n",
    "        velocity_values.append(run_desc['vel_param'])\n",
    "        dir_dot_vel = np.load(os.path.join(f, \"dir_dot_vel.npy\"))\n",
    "        dir_dot_vel_values.append(np.average(dir_dot_vel))\n",
    "        dir_dot_vel_norm = np.load(os.path.join(f, \"dir_dot_vel_norm.npy\"))\n",
    "        dir_dot_vel_norm_values.append(np.average(dir_dot_vel_norm))\n",
    "        v_mag_data = np.load(os.path.join(f, \"v_mag_data.npy\"))\n",
    "        v_mag_data = v_mag_data.flatten()\n",
    "        v_mag_data_values.append(v_mag_data)\n",
    "        exp_data.append(rd.get_exp_data(os.path.join(f, 'snapshot_data')))"
   ]
  },
  {
   "cell_type": "code",
   "execution_count": 5,
   "metadata": {},
   "outputs": [
    {
     "name": "stdout",
     "output_type": "stream",
     "text": [
      "[0.500090259142865, 0.600108310971438, 0.800144414628584, 1.100198570114303, 1.200216621942876, 1.300234673771449, 1.00018051828573, 0.900162466457157, 0.7001263628000111, 0.400072207314292]\n"
     ]
    }
   ],
   "source": [
    "print(varied_values)"
   ]
  },
  {
   "cell_type": "code",
   "execution_count": 6,
   "metadata": {},
   "outputs": [],
   "source": [
    "view_index = 7"
   ]
  },
  {
   "cell_type": "markdown",
   "metadata": {},
   "source": [
    "# Vicsek Order Parameter"
   ]
  },
  {
   "cell_type": "code",
   "execution_count": null,
   "metadata": {},
   "outputs": [],
   "source": [
    "fig, ax = plt.subplots()\n",
    "ax.scatter(varied_values, vicsek_values, label = \"Vicsek Order Parameter\")\n",
    "ax.scatter(varied_values, dir_dot_vel_norm_values, label = \"Dir dot Vel\")\n",
    "\n",
    "ax.set(xlabel=r'Packing fraction', ylabel='Value',\n",
    "       title=r'$D_r = 0.2$ system')\n",
    "ax.legend()\n",
    "\n",
    "fig.text(.5, -.1, r\"$D_r= 0.2$, $v_0=0.03$, J=1, k=1.\", ha='center', fontsize=12)\n",
    "fig.text(.5, -.2, r\"Dir dot Vel = $\\frac{1}{N}\\sum \\frac{\\vec{n}_i \\cdot \\vec{v}_i}{\\left|\\vec{v}_i \\right|}$, Vicsek Order Parameter = $\\frac{ \\left| \\sum \\vec{n}_i \\right|}{N}$\", ha='center', fontsize=12)\n",
    "\n",
    "plt.show()"
   ]
  },
  {
   "cell_type": "markdown",
   "metadata": {},
   "source": [
    "# Velocity Distribution"
   ]
  },
  {
   "cell_type": "code",
   "execution_count": null,
   "metadata": {},
   "outputs": [],
   "source": [
    "fig, ax = plt.subplots()\n",
    "ax.hist(v_mag_data_values[view_index], bins=60)\n",
    "\n",
    "ax.set(xlabel=r'Velocity', ylabel='Num Instances',\n",
    "       title=r'$D_r=0.2$ System')\n",
    "\n",
    "fig.text(.5, -.1, r\"Packing fraction $\\phi= %.2f$, $v_0=0.03$, J=1, k=1, $D_r=0.2\"%(varied_values[view_index]), ha='center')\n",
    "\n",
    "plt.show()"
   ]
  },
  {
   "cell_type": "markdown",
   "metadata": {},
   "source": [
    "# Vorticity\n",
    "\n",
    "I still need to account for periodicity of box."
   ]
  },
  {
   "cell_type": "code",
   "execution_count": null,
   "metadata": {},
   "outputs": [],
   "source": [
    "x = np.linspace(0, 70, num=20)\n",
    "y = np.linspace(0, 70, num=20)\n",
    "h=2\n",
    "\n",
    "X, Y = np.meshgrid(x,y)\n",
    "vorticity_grid = vorticity.get_vorticity(exp_data[view_index], x, y, h)\n",
    "vorticity_grid = np.nan_to_num(vorticity_grid)"
   ]
  },
  {
   "cell_type": "code",
   "execution_count": null,
   "metadata": {},
   "outputs": [],
   "source": [
    "plot = plt.pcolormesh(X,Y,vorticity_grid[46])\n",
    "plt.colorbar(plot)\n",
    "plt.show()"
   ]
  },
  {
   "cell_type": "markdown",
   "metadata": {},
   "source": [
    "# Static Structure Factor"
   ]
  },
  {
   "cell_type": "code",
   "execution_count": null,
   "metadata": {},
   "outputs": [],
   "source": [
    "quantity = np.full(exp_data[view_index]['x'].shape, 1) #All 1 value for static structure factor\n",
    "wavelength_powers, bins = fc.calculate_fourier(quantity, exp_data[view_index], L=70 , min_wave_length=1, num_bins=24)"
   ]
  },
  {
   "cell_type": "code",
   "execution_count": null,
   "metadata": {},
   "outputs": [],
   "source": [
    "bin_centers = []\n",
    "for i in range(len(bins)-1):\n",
    "    bin_centers.append((bins[i]+bins[i+1]) / 2.0)\n",
    "bin_centers = np.array(bin_centers)"
   ]
  },
  {
   "cell_type": "code",
   "execution_count": null,
   "metadata": {},
   "outputs": [],
   "source": [
    "def ssf(q, nu):\n",
    "    return q**(-nu)\n",
    "popt, pcov = curve_fit(ssf, bin_centers, wavelength_powers)\n",
    "print('nu=', popt[0])"
   ]
  },
  {
   "cell_type": "code",
   "execution_count": null,
   "metadata": {},
   "outputs": [],
   "source": [
    "fig, ax = plt.subplots()\n",
    "ax.plot(bin_centers,wavelength_powers, 'bo')\n",
    "#ax.plot(bin_centers, ssf(bin_centers, *popt))\n",
    "ax.set(xlabel=r'Frequency = $2 \\pi$ / wavelength', ylabel='S(q)', title='Static Structure Factor')\n",
    "fig.text(.5, -.1, r\"$D_r= 0.2$, $v_0=0.03$, J=1, k=1,$\\phi=$%.2f, $\\nu=$%.2f\"%(varied_values[view_index],popt[0]), ha='center', fontsize=12)\n",
    "plt.show()"
   ]
  },
  {
   "cell_type": "markdown",
   "metadata": {},
   "source": [
    "# Fourier Space Velocity Correlations"
   ]
  },
  {
   "cell_type": "code",
   "execution_count": null,
   "metadata": {},
   "outputs": [],
   "source": [
    "#Can sum vx^2 and vy^2 from linearity of average\n",
    "quantity_vx = exp_data[view_index]['vx']\n",
    "quantity_vy = exp_data[view_index]['vy']\n",
    "\n",
    "#Subtract average velocity in flocking\n",
    "quantity_vx -=np.average(quantity_vx, axis=-1)[:,None]\n",
    "quantity_vy -= np.average(quantity_vy, axis=-1)[:,None]\n",
    "\n",
    "wavelength_powers_vx, bins = fc.calculate_fourier(quantity_vx, exp_data[view_index], L=70 , min_wave_length=5, num_bins=12)\n",
    "wavelength_powers_vy, bins = fc.calculate_fourier(quantity_vy, exp_data[view_index], L=70 , min_wave_length=5, num_bins=12)\n",
    "\n",
    "wavelength_powers = wavelength_powers_vx + wavelength_powers_vy"
   ]
  },
  {
   "cell_type": "code",
   "execution_count": null,
   "metadata": {},
   "outputs": [],
   "source": [
    "bin_centers = []\n",
    "for i in range(len(bins)-1):\n",
    "    bin_centers.append((bins[i]+bins[i+1]) / 2.0)\n",
    "bin_centers = np.array(bin_centers)"
   ]
  },
  {
   "cell_type": "code",
   "execution_count": null,
   "metadata": {},
   "outputs": [],
   "source": [
    "Np = 1 #Num of particles\n",
    "v0 = 0.03\n",
    "def vcf(q, xi):\n",
    "    return Np*v0**2/(1+(xi*q)**2)\n",
    "popt, pcov = curve_fit(vcf, bin_centers, wavelength_powers)\n",
    "print(r'Correlation Length \\xi=', popt[0])"
   ]
  },
  {
   "cell_type": "code",
   "execution_count": null,
   "metadata": {},
   "outputs": [],
   "source": [
    "fig, ax = plt.subplots()\n",
    "ax.plot(bin_centers,wavelength_powers, 'bo')\n",
    "ax.plot(bin_centers, vcf(bin_centers, *popt))\n",
    "ax.set(xlabel=r'Frequency = $2 \\pi$ / wavelength', ylabel=r'$\\left< \\tilde{v}^2 \\right>$', title='Velocity Correlations')\n",
    "fig.text(.5, -.1, r\"$D_r= 0.2$, $v_0=0.03$, J=1, k=1, $\\phi=$%.2f, $\\xi=$%.2f\"%(varied_values[view_index],popt[0]), ha='center', fontsize=12)\n",
    "plt.show()"
   ]
  },
  {
   "cell_type": "markdown",
   "metadata": {},
   "source": [
    "# Fourier Space Director Correlations"
   ]
  },
  {
   "cell_type": "code",
   "execution_count": null,
   "metadata": {},
   "outputs": [],
   "source": [
    "#Can sum vx^2 and vy^2 from linearity of average\n",
    "quantity_nx = exp_data[view_index]['nx']\n",
    "wavelength_powers_nx, bins = fc.calculate_fourier(quantity_nx, exp_data[view_index], L=70 , min_wave_length=5, num_bins=12)\n",
    "\n",
    "quantity_ny = exp_data[view_index]['ny']\n",
    "wavelength_powers_ny, bins = fc.calculate_fourier(quantity_ny, exp_data[view_index], L=70 , min_wave_length=5, num_bins=12)\n",
    "\n",
    "wavelength_powers = wavelength_powers_nx + wavelength_powers_ny"
   ]
  },
  {
   "cell_type": "code",
   "execution_count": null,
   "metadata": {},
   "outputs": [],
   "source": [
    "bin_centers = []\n",
    "for i in range(len(bins)-1):\n",
    "    bin_centers.append((bins[i]+bins[i+1]) / 2.0)"
   ]
  },
  {
   "cell_type": "code",
   "execution_count": null,
   "metadata": {},
   "outputs": [],
   "source": [
    "fig, ax = plt.subplots()\n",
    "ax.plot(bin_centers,wavelength_powers, 'bo')\n",
    "ax.set(xlabel=r'Frequency = $2 \\pi$ / wavelength', ylabel=r'$\\left< \\tilde{n}^2 \\right>$', title='Director Correlations')\n",
    "fig.text(.5, -.1, r\"$D_r= 0.2$, $v_0=0.03$, J=1, k=1,$\\phi=$%.2f\"%varied_values[view_index], ha='center', fontsize=12)\n",
    "plt.show()"
   ]
  }
 ],
 "metadata": {
  "kernelspec": {
   "display_name": "Python 3",
   "language": "python",
   "name": "python3"
  },
  "language_info": {
   "codemirror_mode": {
    "name": "ipython",
    "version": 3
   },
   "file_extension": ".py",
   "mimetype": "text/x-python",
   "name": "python",
   "nbconvert_exporter": "python",
   "pygments_lexer": "ipython3",
   "version": "3.7.7"
  }
 },
 "nbformat": 4,
 "nbformat_minor": 2
}
