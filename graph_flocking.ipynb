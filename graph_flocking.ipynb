{
 "cells": [
  {
   "cell_type": "code",
   "execution_count": 5,
   "metadata": {},
   "outputs": [],
   "source": [
    "#Imports\n",
    "\n",
    "import sys\n",
    "import os\n",
    "import numpy as np\n",
    "import random\n",
    "import matplotlib\n",
    "import matplotlib.pyplot as plt\n",
    "import datetime\n",
    "import pdb #python debugger\n",
    "from timeit import default_timer as timer #timer\n",
    "from collections import OrderedDict\n",
    "\n",
    "sys.path.insert(1, '/Users/ryanlopez/ABPTutorial/c++') #Connects to ABP Folder github.com/ryanlopezzzz/ABPTutorial\n",
    "from cppmd.builder import *\n",
    "import cppmd as md\n",
    "\n",
    "import read_data as rd #reads snapshot text data\n",
    "import MSD #calculates MSD\n",
    "import directories #used to create directories for saving data"
   ]
  },
  {
   "cell_type": "code",
   "execution_count": 88,
   "metadata": {},
   "outputs": [],
   "source": [
    "#Directory where all data is saved\n",
    "save_dir = \"/Users/ryanlopez/Desktop/Python_Programs/Dr_Marchetti_Research/Saved_Data\"\n",
    "exp_folder_name = \"flocking_transition_vary_Dr_sparse2\" #Folder name of experiment directory, don't change inbetween runs unless studying something different\n",
    "exp_dir = os.path.join(save_dir, exp_folder_name)\n",
    "\n",
    "D_r_values = []\n",
    "vicsek_values = []\n",
    "velocity_values = []\n",
    "\n",
    "for f in os.scandir(exp_dir): #runs through all immediate subdirectories\n",
    "    if f.is_dir() and f.path != os.path.join(exp_dir, \".ipynb_checkpoints\"):\n",
    "        run_desc_file = open(os.path.join(f, 'run_desc.json'))\n",
    "        run_desc = json.loads(run_desc_file.read())\n",
    "        run_desc_file.close()\n",
    "\n",
    "        D_r_values.append(run_desc['D_r'])\n",
    "        vicsek_values.append(run_desc['vicsek_param'])\n",
    "        velocity_values.append(run_desc['vel_param'])"
   ]
  },
  {
   "cell_type": "code",
   "execution_count": 93,
   "metadata": {},
   "outputs": [
    {
     "data": {
      "text/plain": [
       "14"
      ]
     },
     "execution_count": 93,
     "metadata": {},
     "output_type": "execute_result"
    }
   ],
   "source": [
    "D_r_values.index(0)"
   ]
  },
  {
   "cell_type": "code",
   "execution_count": 90,
   "metadata": {},
   "outputs": [
    {
     "data": {
      "image/png": "[encoded data removed]",
      "text/plain": [
       "<Figure size 432x288 with 1 Axes>"
      ]
     },
     "metadata": {
      "needs_background": "light"
     },
     "output_type": "display_data"
    }
   ],
   "source": [
    "fig, ax = plt.subplots()\n",
    "ax.scatter(D_r_values, vicsek_values, label = r\"$\\frac{ \\left| \\sum \\vec{n}_i \\right|}{N}$\")\n",
    "\n",
    "ax.set(xlabel=r'$D_r$', ylabel='Vicsek Order Parameter',\n",
    "       title='Sparse system')\n",
    "ax.legend(fontsize = 20)\n",
    "\n",
    "fig.text(.5, -.1, r\"Packing fraction $\\phi= 0.5$, $v_0=0.03$, J=1, k=1\", ha='center')\n",
    "\n",
    "plt.show()"
   ]
  },
  {
   "cell_type": "code",
   "execution_count": null,
   "metadata": {},
   "outputs": [],
   "source": [
    "load_dir = os.path.join(base_dir, load_folder + \"/\") #puts base directory in front\n",
    "\n",
    "run_data_folder_paths = []\n",
    "\n",
    "for f in os.scandir(load_dir): #runs through all immediate subdirectories of load_dir\n",
    "    if f.is_dir() and f.path != os.path.join(load_dir, \".ipynb_checkpoints\"):\n",
    "        run_data_folder = os.path.join(f.path, \"run_data/\") #gives path for run_data of subdirectory\n",
    "    \n",
    "        run_data_folder_paths.append(run_data_folder)\n",
    "\n",
    "beta_values = np.zeros(len(run_data_folder_paths))\n",
    "time_step_0x = np.zeros(len(run_data_folder_paths))\n",
    "time_step_1x = np.zeros(len(run_data_folder_paths))\n",
    "time_step_2x = np.zeros(len(run_data_folder_paths))\n",
    "time_step_3x = np.zeros(len(run_data_folder_paths))\n",
    "time_step_4x = np.zeros(len(run_data_folder_paths))\n",
    "\n",
    "for i, (f) in enumerate(run_data_folder_paths):\n",
    "    paramfile = open( os.path.join(f, \"paramfile.json\")  , 'r') #loads json file containing parameters for run\n",
    "    params = json.loads(paramfile.read()) #params is dictionary containing params for run\n",
    "    paramfile.close()    \n",
    "    \n",
    "    resultsfile = open( os.path.join(f, \"resultsfile.json\"), 'r')\n",
    "    results = json.loads(resultsfile.read()) #results is dictionary containing results for run\n",
    "    resultsfile.close()\n",
    "    \n",
    "    beta_values[i] = params['beta'] #gamma_reconstruct\n",
    "    time_step_0x[i] = results[\"time_integration_0.00\"]\n",
    "    time_step_1x[i] = results[\"time_integration_0.25\"]\n",
    "    time_step_2x[i] = results[\"time_integration_0.50\"]\n",
    "    time_step_3x[i] = results[\"time_integration_0.75\"]\n",
    "    time_step_4x[i] = results[\"time_integration_1.00\"]\n",
    "    \n",
    "index_array = (beta_values).argsort()\n",
    "\n",
    "beta_values = beta_values[index_array]\n",
    "time_step_0x = time_step_0x[index_array]\n",
    "time_step_1x = time_step_1x[index_array]\n",
    "time_step_2x = time_step_2x[index_array]\n",
    "time_step_3x = time_step_3x[index_array]\n",
    "time_step_4x = time_step_4x[index_array]"
   ]
  }
 ],
 "metadata": {
  "kernelspec": {
   "display_name": "Python [conda env:ABP]",
   "language": "python",
   "name": "conda-env-ABP-py"
  },
  "language_info": {
   "codemirror_mode": {
    "name": "ipython",
    "version": 3
   },
   "file_extension": ".py",
   "mimetype": "text/x-python",
   "name": "python",
   "nbconvert_exporter": "python",
   "pygments_lexer": "ipython3",
   "version": "3.7.7"
  }
 },
 "nbformat": 4,
 "nbformat_minor": 2
}
