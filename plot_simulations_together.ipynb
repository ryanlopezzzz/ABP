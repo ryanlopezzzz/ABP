{
 "cells": [
  {
   "cell_type": "code",
   "execution_count": 1,
   "metadata": {},
   "outputs": [],
   "source": [
    "import os\n",
    "import numpy as np\n",
    "import json\n",
    "import matplotlib.pyplot as plt\n",
    "from scipy.signal import find_peaks, peak_prominences\n",
    "import Utils.graphing_helpers\n",
    "import read_data as rd\n",
    "import importlib\n",
    "importlib.reload(Utils.graphing_helpers)\n",
    "from Utils.graphing_helpers import (plot_vicsek_phase_diagram, plot_dir_cross_vel_phase_diagram,  plot_dir_cross_vel_norm_phase_diagram, \n",
    "                                    save_fig_pdf, edges_from_centers_log, edges_from_centers_linear)\n",
    "from Analysis_Calculations.local_packing_fraction import get_local_packing_fraction"
   ]
  },
  {
   "cell_type": "code",
   "execution_count": 2,
   "metadata": {},
   "outputs": [],
   "source": [
    "vicsek_values = []\n",
    "dir_cross_vel_values = []\n",
    "peak_distance_values = []\n",
    "parameter_values = []"
   ]
  },
  {
   "cell_type": "code",
   "execution_count": null,
   "metadata": {},
   "outputs": [],
   "source": [
    "save_dir = \"/home/ryanlopez/Velocity_Align_Big_Phase_Diagrams\"\n",
    "for phi in [0.8]: #0.4, 0.6, 0.8\n",
    "    for v0 in [0.01, 0.03, 0.1]:\n",
    "        if phi == 0.8 and v0 == 0.1:\n",
    "            continue\n",
    "        for Jv in np.logspace(-3, 0, num=13):\n",
    "            for Dr in np.logspace(-3, 0, num=13):\n",
    "                J = Jv/v0\n",
    "                exp_folder_name = \"phi=%.4f_and_v0=%.4f\"%(phi, v0)\n",
    "                run_folder_name = \"J=%.4f_and_Dr=%.4f\"%(J, Dr)\n",
    "                run_dir = os.path.join(save_dir, exp_folder_name, run_folder_name)\n",
    "                single_stats_filename = os.path.join(run_dir, 'single_stats.json')\n",
    "                with open(single_stats_filename, 'r') as single_stats_file:\n",
    "                    single_stats = json.loads(single_stats_file.read())\n",
    "                vicsek_values.append(single_stats['vicsek_param'])\n",
    "                dir_cross_vel_values.append(single_stats['dir_cross_vel_norm'])\n",
    "                #peak_distance_values.append(single_stats['packing_peak_distance'])\n",
    "                parameter_values.append([phi, v0, J, Dr])"
   ]
  },
  {
   "cell_type": "code",
   "execution_count": null,
   "metadata": {},
   "outputs": [],
   "source": [
    "save_dir = \"/home/ryanlopez/Velocity_Align_Vary_Phi_V_Cutoff_Saved_Data3\"\n",
    "for phi in [0.6]:\n",
    "    for v0 in [0.0026, 0.0120, 0.0600, 0.2500]:\n",
    "        for Jv in np.logspace(-2, 0, num=7):\n",
    "            for Dr in np.logspace(-3, -1, num=7):\n",
    "                J = Jv/v0\n",
    "                exp_folder_name = \"phi=%.4f_and_v0=%.4f\"%(phi, v0)\n",
    "                run_folder_name = \"J=%.4f_and_Dr=%.4f\"%(J, Dr)\n",
    "                run_dir = os.path.join(save_dir, exp_folder_name, run_folder_name)\n",
    "                single_stats_filename = os.path.join(run_dir, 'single_stats.json')\n",
    "                with open(single_stats_filename, 'r') as single_stats_file:\n",
    "                    single_stats = json.loads(single_stats_file.read())\n",
    "                vicsek_values.append(single_stats['vicsek_param'])\n",
    "                dir_cross_vel_values.append(single_stats['dir_cross_vel_norm'])\n",
    "                #peak_distance_values.append(single_stats['packing_peak_distance'])\n",
    "                parameter_values.append([phi, v0, J, Dr])"
   ]
  },
  {
   "cell_type": "code",
   "execution_count": 3,
   "metadata": {},
   "outputs": [],
   "source": [
    "save_dir = \"/home/ryanlopez/Velocity_Align_Vary_Phi_V_Saved_Data2\"\n",
    "for phi in [1.0]: #0.4, 0.6, 0.8, 1.0\n",
    "    for v0 in [0.01, 0.03, 0.1]:\n",
    "        for Jv in np.logspace(-3, 0, num=4):\n",
    "            for Dr in np.logspace(-3, 0, num=4):\n",
    "                J = Jv/v0\n",
    "                exp_folder_name = \"phi=%.4f_and_v0=%.4f\"%(phi, v0)\n",
    "                run_folder_name = \"J=%.4f_and_Dr=%.4f\"%(J, Dr)\n",
    "                run_dir = os.path.join(save_dir, exp_folder_name, run_folder_name)\n",
    "                single_stats_filename = os.path.join(run_dir, 'single_stats.json')\n",
    "                with open(single_stats_filename, 'r') as single_stats_file:\n",
    "                    single_stats = json.loads(single_stats_file.read())\n",
    "                vicsek_values.append(single_stats['vicsek_param'])\n",
    "                dir_cross_vel_values.append(single_stats['dir_cross_vel_norm'])\n",
    "                #peak_distance_values.append(single_stats['packing_peak_distance'])\n",
    "                parameter_values.append([phi, v0, J, Dr])"
   ]
  },
  {
   "cell_type": "code",
   "execution_count": 4,
   "metadata": {},
   "outputs": [],
   "source": [
    "dir_cross_vel_values = np.array(dir_cross_vel_values)\n",
    "peak_distance_values = np.array(peak_distance_values)\n",
    "vicsek_values = np.array(vicsek_values)\n",
    "parameter_values = np.array(parameter_values)"
   ]
  },
  {
   "cell_type": "code",
   "execution_count": 5,
   "metadata": {},
   "outputs": [],
   "source": [
    "phi_points = parameter_values[:,0]\n",
    "v0_points = parameter_values[:,1]\n",
    "J_points = parameter_values[:,2]\n",
    "Dr_points = parameter_values[:,3]"
   ]
  },
  {
   "cell_type": "code",
   "execution_count": 6,
   "metadata": {},
   "outputs": [],
   "source": [
    "data_points_x = J_points * v0_points/ Dr_points\n",
    "data_points_y = Dr_points / (v0_points * phi_points)"
   ]
  },
  {
   "cell_type": "code",
   "execution_count": 7,
   "metadata": {},
   "outputs": [
    {
     "data": {
      "text/plain": [
       "48"
      ]
     },
     "execution_count": 7,
     "metadata": {},
     "output_type": "execute_result"
    }
   ],
   "source": [
    "len(data_points_x)"
   ]
  },
  {
   "cell_type": "code",
   "execution_count": 8,
   "metadata": {},
   "outputs": [
    {
     "data": {
      "image/png": "[encoded data removed]",
      "text/plain": [
       "<Figure size 864x432 with 2 Axes>"
      ]
     },
     "metadata": {
      "needs_background": "light"
     },
     "output_type": "display_data"
    }
   ],
   "source": [
    "save_dir = \"/home/ryanlopez/Velocity_Align_Vary_Phi_V_Saved_Data2\"\n",
    "#fig, axs = plt.subplots(1, 3, figsize=(17,6))\n",
    "fig, axs = plt.subplots(1, 2, figsize=(12,6))\n",
    "fig.tight_layout(rect=[0, 0.03, 1, 0.9])\n",
    "fig.suptitle(rf'Velocity Alignment - $\\phi$ = {phi:.2e}', fontsize=22)\n",
    "\n",
    "#Vicsek\n",
    "cutoff = 0.5\n",
    "flocking_x = data_points_x[vicsek_values > cutoff]\n",
    "flocking_y = data_points_y[vicsek_values > cutoff]\n",
    "not_flocking_x = data_points_x[vicsek_values < cutoff]\n",
    "not_flocking_y = data_points_y[vicsek_values < cutoff]\n",
    "#Add Noise\n",
    "flocking_x = flocking_x * np.random.normal(1, 0.05, flocking_x.shape)\n",
    "flocking_y = flocking_y * np.random.normal(1, 0.05, flocking_y.shape)\n",
    "not_flocking_x = not_flocking_x * np.random.normal(1, 0.05, not_flocking_x.shape)\n",
    "not_flocking_y = not_flocking_y * np.random.normal(1, 0.05, not_flocking_y.shape)\n",
    "#Make Plot\n",
    "axs[0].scatter(flocking_x, flocking_y, c='red', label=f'Vicsek > {cutoff:.2f}', alpha=0.5)\n",
    "axs[0].scatter(not_flocking_x, not_flocking_y, c='blue', label=f'Vicsek < {cutoff:.2f}', alpha=0.5)\n",
    "axs[0].set_xscale('log')\n",
    "axs[0].set_yscale('log')\n",
    "axs[0].legend()\n",
    "axs[0].set_xlabel(r'$\\frac{J \\cdot v_0}{D_r}$', fontsize=22)\n",
    "axs[0].set_ylabel(r'$\\frac{D_r}{v_0 \\cdot \\phi}$', fontsize=22)\n",
    "axs[0].set_title('Vicsek Order Parameter', fontsize=18)\n",
    "\n",
    "#Dir Cross Vel Norm\n",
    "cutoff = 0.05\n",
    "flocking_x = data_points_x[dir_cross_vel_values > cutoff]\n",
    "flocking_y = data_points_y[dir_cross_vel_values > cutoff]\n",
    "not_flocking_x = data_points_x[dir_cross_vel_values < cutoff]\n",
    "not_flocking_y = data_points_y[dir_cross_vel_values < cutoff]\n",
    "#Add Noise\n",
    "flocking_x = flocking_x * np.random.normal(1, 0.05, flocking_x.shape)\n",
    "flocking_y = flocking_y * np.random.normal(1, 0.05, flocking_y.shape)\n",
    "not_flocking_x = not_flocking_x * np.random.normal(1, 0.05, not_flocking_x.shape)\n",
    "not_flocking_y = not_flocking_y * np.random.normal(1, 0.05, not_flocking_y.shape)\n",
    "#Make Plot\n",
    "axs[1].scatter(flocking_x, flocking_y, c='green', label=f'Dir Cross Vel > {cutoff:.2f}', alpha=0.5)\n",
    "axs[1].scatter(not_flocking_x, not_flocking_y, c='purple', label=f'Dir Cross Vel < {cutoff:.2f}', alpha=0.5)\n",
    "axs[1].set_xscale('log')\n",
    "axs[1].set_yscale('log')\n",
    "axs[1].legend()\n",
    "axs[1].set_xlabel(r'$\\frac{J \\cdot v_0}{D_r}$', fontsize=22)\n",
    "axs[1].set_title('Director Cross Velocity', fontsize=18)\n",
    "\n",
    "#Packing Peak Diff\n",
    "\"\"\"\n",
    "cutoff = 0.1\n",
    "flocking_x = data_points_x[peak_distance_values > cutoff]\n",
    "flocking_y = data_points_y[peak_distance_values > cutoff]\n",
    "not_flocking_x = data_points_x[peak_distance_values < cutoff]\n",
    "not_flocking_y = data_points_y[peak_distance_values < cutoff]\n",
    "#Add Noise\n",
    "flocking_x = flocking_x * np.random.normal(1, 0.05, flocking_x.shape)\n",
    "flocking_y = flocking_y * np.random.normal(1, 0.05, flocking_y.shape)\n",
    "not_flocking_x = not_flocking_x * np.random.normal(1, 0.05, not_flocking_x.shape)\n",
    "not_flocking_y = not_flocking_y * np.random.normal(1, 0.05, not_flocking_y.shape)\n",
    "#Make Plot\n",
    "axs[2].scatter(flocking_x, flocking_y, c='orange', label=f'Peak Distance > {cutoff:.2f}', alpha=0.5)\n",
    "axs[2].scatter(not_flocking_x, not_flocking_y, c='black', label=f'Peak Distance < {cutoff:.2f}', alpha=0.5)\n",
    "axs[2].set_xscale('log')\n",
    "axs[2].set_yscale('log')\n",
    "axs[2].legend()\n",
    "axs[2].set_xlabel(r'$\\frac{J}{D_r}$', fontsize=22)\n",
    "axs[2].set_title('Packing Fraction Peak Distances', fontsize=18)\n",
    "\"\"\"\n",
    "save_fig_pdf(os.path.join(save_dir, 'phase_diagrams', f'dots_diagrams_phi={phi:.4f}.pdf'))"
   ]
  },
  {
   "cell_type": "markdown",
   "metadata": {},
   "source": [
    "# This Loads All My Previously Simulated Data"
   ]
  },
  {
   "cell_type": "code",
   "execution_count": null,
   "metadata": {},
   "outputs": [],
   "source": [
    "base_for_load_dir = '/home/ryanlopez/Polar_Align_Saved_Data'\n",
    "different_load_folder_names = ['Big_J_Packing_Phase_Diagram', 'glass_vary_J_Dr', 'J_Packing_Phase_Diagram', \n",
    "                        'J_Packing_v0=0.15_Phase_Diagram', 'liquid_vary_J_Dr', 'looking_for_vortices',\n",
    "                        'phi=0.6000_and_v0=0.0100_high_resolution']\n",
    "for load_folder_name in different_load_folder_names:\n",
    "    load_dir = os.path.join(base_for_load_dir, load_folder_name)"
   ]
  },
  {
   "cell_type": "code",
   "execution_count": null,
   "metadata": {},
   "outputs": [],
   "source": [
    "new_vicsek_values = []\n",
    "new_dir_cross_vel_values = []\n",
    "new_parameter_values = []"
   ]
  },
  {
   "cell_type": "code",
   "execution_count": null,
   "metadata": {},
   "outputs": [],
   "source": [
    "load_dir = os.path.join(base_for_load_dir, 'Big_J_Packing_Phase_Diagram')\n",
    "for phi in [0.4, 0.6, 0.8, 1.0]:\n",
    "    for v0 in [0.03]:\n",
    "        for Dr in [0.1]:\n",
    "            for J in np.linspace(0, 2, num=11):\n",
    "                run_folder_1 = f'J={J:.4f}_and_packing={phi:.4f}'\n",
    "                run_folder_2 = f'J={J:.4f}_and_packing={phi+1e-4:.4f}'\n",
    "                run_folder_3 = f'J={J:.4f}_and_packing={phi+2e-4:.4f}'\n",
    "                if os.path.isdir(os.path.join(load_dir, run_folder_1)):\n",
    "                    run_dir = os.path.join(load_dir, run_folder_1)\n",
    "                elif os.path.isdir(os.path.join(load_dir, run_folder_2)):\n",
    "                    run_dir = os.path.join(load_dir, run_folder_2)\n",
    "                elif os.path.isdir(os.path.join(load_dir, run_folder_3)):\n",
    "                    run_dir = os.path.join(load_dir, run_folder_3)\n",
    "                else:\n",
    "                    print('Error - Didnt get a run_dir')\n",
    "                single_stats_filename = os.path.join(run_dir, 'single_stats.json')\n",
    "                with open(single_stats_filename, 'r') as single_stats_file:\n",
    "                    single_stats = json.loads(single_stats_file.read())\n",
    "                new_vicsek_values.append(single_stats['vicsek_param'])\n",
    "                new_dir_cross_vel_values.append(single_stats['dir_cross_vel_norm'])\n",
    "                new_parameter_values.append([phi, v0, J, Dr])"
   ]
  },
  {
   "cell_type": "code",
   "execution_count": null,
   "metadata": {},
   "outputs": [],
   "source": [
    "load_dir = os.path.join(base_for_load_dir, 'glass_vary_J_Dr')\n",
    "Teff = 1e-3\n",
    "for phi in [1.0]:\n",
    "    for Dr in np.linspace(0, 0.2, num=7)[1:]:\n",
    "        for J in np.linspace(0, 0.2, num=7):\n",
    "            v0 = np.sqrt(2*Dr*Teff)\n",
    "            run_folder = f'Dr={Dr:.4f}_and_J={J:.4f}'\n",
    "            run_dir = os.path.join(load_dir, run_folder)\n",
    "            single_stats_filename = os.path.join(run_dir, 'single_stats.json')\n",
    "            with open(single_stats_filename, 'r') as single_stats_file:\n",
    "                single_stats = json.loads(single_stats_file.read())\n",
    "            new_vicsek_values.append(single_stats['vicsek_param'])\n",
    "            new_dir_cross_vel_values.append(single_stats['dir_cross_vel_norm'])\n",
    "            new_parameter_values.append([phi, v0, J, Dr])"
   ]
  },
  {
   "cell_type": "code",
   "execution_count": null,
   "metadata": {},
   "outputs": [],
   "source": [
    "load_dir = os.path.join(base_for_load_dir, 'J_Packing_Phase_Diagram')\n",
    "for phi in [0.4, 0.6, 0.8, 1.0]:\n",
    "    for v0 in [0.03]:\n",
    "        for Dr in [0.1]:\n",
    "            for J in np.linspace(0, 0.4, num=21):\n",
    "                run_folder_1 = f'J={J:.4f}_and_packing={phi:.4f}'\n",
    "                run_folder_2 = f'J={J:.4f}_and_packing={phi+1e-4:.4f}'\n",
    "                run_folder_3 = f'J={J:.4f}_and_packing={phi+2e-4:.4f}'\n",
    "                if os.path.isdir(os.path.join(load_dir, run_folder_1)):\n",
    "                    run_dir = os.path.join(load_dir, run_folder_1)\n",
    "                elif os.path.isdir(os.path.join(load_dir, run_folder_2)):\n",
    "                    run_dir = os.path.join(load_dir, run_folder_2)\n",
    "                elif os.path.isdir(os.path.join(load_dir, run_folder_3)):\n",
    "                    run_dir = os.path.join(load_dir, run_folder_3)\n",
    "                else:\n",
    "                    print('Error - Didnt get a run_dir')\n",
    "                single_stats_filename = os.path.join(run_dir, 'single_stats.json')\n",
    "                with open(single_stats_filename, 'r') as single_stats_file:\n",
    "                    single_stats = json.loads(single_stats_file.read())\n",
    "                new_vicsek_values.append(single_stats['vicsek_param'])\n",
    "                new_dir_cross_vel_values.append(single_stats['dir_cross_vel_norm'])\n",
    "                new_parameter_values.append([phi, v0, J, Dr])"
   ]
  },
  {
   "cell_type": "code",
   "execution_count": null,
   "metadata": {},
   "outputs": [],
   "source": [
    "load_dir = os.path.join(base_for_load_dir, 'J_Packing_v0=0.15_Phase_Diagram')\n",
    "for phi in [0.4, 0.6, 0.8, 1.0]:\n",
    "    for v0 in [0.15]:\n",
    "        for Dr in [0.1]:\n",
    "            for J in np.linspace(0, 0.4, num=11):\n",
    "                run_folder = f'packing={phi:.4f}_and_J={J:.4f}'\n",
    "                run_dir = os.path.join(load_dir, run_folder)\n",
    "                single_stats_filename = os.path.join(run_dir, 'single_stats.json')\n",
    "                with open(single_stats_filename, 'r') as single_stats_file:\n",
    "                    single_stats = json.loads(single_stats_file.read())\n",
    "                new_vicsek_values.append(single_stats['vicsek_param'])\n",
    "                new_dir_cross_vel_values.append(single_stats['dir_cross_vel_norm'])\n",
    "                new_parameter_values.append([phi, v0, J, Dr])"
   ]
  },
  {
   "cell_type": "code",
   "execution_count": null,
   "metadata": {},
   "outputs": [],
   "source": [
    "load_dir = os.path.join(base_for_load_dir, 'liquid_vary_J_Dr')\n",
    "Teff = 1e-2\n",
    "for phi in [1.0]:\n",
    "    for Dr in np.linspace(0, 0.2, num=7)[1:]:\n",
    "        for J in np.linspace(0, 0.2, num=7):\n",
    "            v0 = np.sqrt(2*Dr*Teff)\n",
    "            run_folder = f'Dr={Dr:.4f}_and_J={J:.4f}'\n",
    "            run_dir = os.path.join(load_dir, run_folder)\n",
    "            single_stats_filename = os.path.join(run_dir, 'single_stats.json')\n",
    "            with open(single_stats_filename, 'r') as single_stats_file:\n",
    "                single_stats = json.loads(single_stats_file.read())\n",
    "            new_vicsek_values.append(single_stats['vicsek_param'])\n",
    "            new_dir_cross_vel_values.append(single_stats['dir_cross_vel_norm'])\n",
    "            new_parameter_values.append([phi, v0, J, Dr])"
   ]
  },
  {
   "cell_type": "code",
   "execution_count": null,
   "metadata": {},
   "outputs": [],
   "source": [
    "load_dir = os.path.join(base_for_load_dir, 'looking_for_vortices')\n",
    "for phi in [1.0]:\n",
    "    for v0 in [0.01]:\n",
    "        for Dr in [0.01, 0.1, 1.0, 10.0]:\n",
    "            for J in [0.01, 0.1, 1.0, 10.0]:\n",
    "                run_folder = f'J={J:.4f}_and_Dr={Dr:.4f}'\n",
    "                run_dir = os.path.join(load_dir, run_folder)\n",
    "                single_stats_filename = os.path.join(run_dir, 'single_stats.json')\n",
    "                with open(single_stats_filename, 'r') as single_stats_file:\n",
    "                    single_stats = json.loads(single_stats_file.read())\n",
    "                new_vicsek_values.append(single_stats['vicsek_param'])\n",
    "                new_dir_cross_vel_values.append(single_stats['dir_cross_vel_norm'])\n",
    "                new_parameter_values.append([phi, v0, J, Dr])"
   ]
  },
  {
   "cell_type": "code",
   "execution_count": null,
   "metadata": {},
   "outputs": [],
   "source": [
    "load_dir = os.path.join(base_for_load_dir, 'phi=0.6000_and_v0=0.0100_high_resolution')\n",
    "for phi in [0.6]:\n",
    "    for v0 in [0.01]:\n",
    "        for Dr in np.linspace(0.02, 0.06, num=11):\n",
    "            for J in np.linspace(0.2, 0.6, num=11):\n",
    "                run_folder = f'J={J:.4f}_and_Dr={Dr:.4f}'\n",
    "                run_dir = os.path.join(load_dir, run_folder)\n",
    "                single_stats_filename = os.path.join(run_dir, 'single_stats.json')\n",
    "                with open(single_stats_filename, 'r') as single_stats_file:\n",
    "                    single_stats = json.loads(single_stats_file.read())\n",
    "                new_vicsek_values.append(single_stats['vicsek_param'])\n",
    "                new_dir_cross_vel_values.append(single_stats['dir_cross_vel_norm'])\n",
    "                new_parameter_values.append([phi, v0, J, Dr])"
   ]
  },
  {
   "cell_type": "code",
   "execution_count": null,
   "metadata": {},
   "outputs": [],
   "source": [
    "parameter_values.extend(new_parameter_values)\n",
    "vicsek_values.extend(new_vicsek_values)\n",
    "dir_cross_vel_values.extend(new_dir_cross_vel_values)"
   ]
  }
 ],
 "metadata": {
  "interpreter": {
   "hash": "6dc59c0f83b5695907e6c56de27fcad516e0e3d65e065c8ce53fd97641e3e16d"
  },
  "kernelspec": {
   "display_name": "Python 3.7.11 ('ABP')",
   "language": "python",
   "name": "python3"
  },
  "language_info": {
   "codemirror_mode": {
    "name": "ipython",
    "version": 3
   },
   "file_extension": ".py",
   "mimetype": "text/x-python",
   "name": "python",
   "nbconvert_exporter": "python",
   "pygments_lexer": "ipython3",
   "version": "3.7.11"
  },
  "orig_nbformat": 4
 },
 "nbformat": 4,
 "nbformat_minor": 2
}
